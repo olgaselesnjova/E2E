{
 "cells": [
  {
   "cell_type": "markdown",
   "metadata": {},
   "source": [
    "## Lab 1 - Analyzing Real Estate Data in St. Petersburg\n",
    "We have data from Yandex.Realty classified https://realty.yandex.ru containing real estate listings for apartments in St. Petersburg and Leningrad Oblast from 2016 till the middle of August 2018. \n",
    "\n",
    "### Main objectives\n",
    "After successful completion of the lab work students will be able to:\n",
    "-\tAnalyze large datasets that don't work well in Excel using IPython notebook and pandas library\n",
    "-   Find outliers and remove them in the datasets\n",
    "-\tCalculate different statistics on data fields\n",
    "\n",
    "### Tasks\n",
    "-\tCalculate median and mean sell and rent prices in St. Petersburg (before and after cleaning without Leningrad Oblast)\n",
    "Which of the statistics changed more and why?\n",
    "-   Find outliers: too cheap or too expensive apartments which seem to be a wrong data. Remove them from the dataset.\n",
    "-\tFind houses with the most cheapest and most expensive prices per square meter.\n",
    "-   Analyze how many rent offers have the commission and what is the most popular commission"
   ]
  },
  {
   "cell_type": "code",
   "execution_count": 1,
   "metadata": {},
   "outputs": [],
   "source": [
    "import pandas as pd\n",
    "import seaborn as sns\n",
    "import scipy.stats\n",
    "import numpy as np\n",
    "import matplotlib.pyplot as plt\n",
    "import scipy.stats\n",
    "import plotly.express as px\n",
    "import math\n",
    "from sklearn.metrics import mean_squared_error\n",
    "\n",
    "pd.set_option('display.max_columns', 500)\n",
    "pd.set_option('display.width', 1000)\n",
    "pd.set_option('display.max_colwidth', 1000)"
   ]
  },
  {
   "cell_type": "code",
   "execution_count": 2,
   "metadata": {},
   "outputs": [
    {
     "data": {
      "text/plain": [
       "429187"
      ]
     },
     "execution_count": 2,
     "metadata": {},
     "output_type": "execute_result"
    }
   ],
   "source": [
    "spb_df = pd.read_table('~/__DATA/E2ESML_Spring2023/data/spb.real.estate.archive.2018.tsv')\n",
    "len(spb_df)"
   ]
  },
  {
   "cell_type": "code",
   "execution_count": 3,
   "metadata": {},
   "outputs": [
    {
     "name": "stdout",
     "output_type": "stream",
     "text": [
      "<class 'pandas.core.frame.DataFrame'>\n",
      "RangeIndex: 429187 entries, 0 to 429186\n",
      "Data columns (total 17 columns):\n",
      " #   Column                Non-Null Count   Dtype  \n",
      "---  ------                --------------   -----  \n",
      " 0   offer_id              429187 non-null  int64  \n",
      " 1   first_day_exposition  429187 non-null  object \n",
      " 2   last_day_exposition   429187 non-null  object \n",
      " 3   last_price            429187 non-null  float64\n",
      " 4   floor                 429187 non-null  int64  \n",
      " 5   open_plan             429187 non-null  bool   \n",
      " 6   rooms                 429187 non-null  int64  \n",
      " 7   studio                429187 non-null  bool   \n",
      " 8   area                  429187 non-null  float64\n",
      " 9   kitchen_area          341591 non-null  float64\n",
      " 10  living_area           364544 non-null  float64\n",
      " 11  agent_fee             149229 non-null  float64\n",
      " 12  renovation            295659 non-null  float64\n",
      " 13  offer_type            429187 non-null  int64  \n",
      " 14  category_type         429187 non-null  int64  \n",
      " 15  unified_address       429187 non-null  object \n",
      " 16  building_id           429187 non-null  int64  \n",
      "dtypes: bool(2), float64(6), int64(6), object(3)\n",
      "memory usage: 49.9+ MB\n"
     ]
    }
   ],
   "source": [
    "spb_df.info()"
   ]
  },
  {
   "cell_type": "code",
   "execution_count": 4,
   "metadata": {},
   "outputs": [
    {
     "data": {
      "text/html": [
       "<style type=\"text/css\">\n",
       "#T_0c680_row0_col0, #T_0c680_row1_col0, #T_0c680_row2_col0, #T_0c680_row3_col0, #T_0c680_row4_col0, #T_0c680_row5_col0, #T_0c680_row6_col0, #T_0c680_row7_col0, #T_0c680_row8_col0, #T_0c680_row13_col0, #T_0c680_row14_col0, #T_0c680_row15_col0, #T_0c680_row16_col0 {\n",
       "  width: 10em;\n",
       "  height: 80%;\n",
       "}\n",
       "#T_0c680_row9_col0 {\n",
       "  width: 10em;\n",
       "  height: 80%;\n",
       "  background: linear-gradient(90deg,#d65f5f 20.4%, transparent 20.4%);\n",
       "}\n",
       "#T_0c680_row10_col0 {\n",
       "  width: 10em;\n",
       "  height: 80%;\n",
       "  background: linear-gradient(90deg,#d65f5f 15.1%, transparent 15.1%);\n",
       "}\n",
       "#T_0c680_row11_col0 {\n",
       "  width: 10em;\n",
       "  height: 80%;\n",
       "  background: linear-gradient(90deg,#d65f5f 65.2%, transparent 65.2%);\n",
       "}\n",
       "#T_0c680_row12_col0 {\n",
       "  width: 10em;\n",
       "  height: 80%;\n",
       "  background: linear-gradient(90deg,#d65f5f 31.1%, transparent 31.1%);\n",
       "}\n",
       "</style>\n",
       "<table id=\"T_0c680_\">\n",
       "  <thead>\n",
       "    <tr>\n",
       "      <th class=\"blank level0\" >&nbsp;</th>\n",
       "      <th class=\"col_heading level0 col0\" >percent of NA</th>\n",
       "    </tr>\n",
       "  </thead>\n",
       "  <tbody>\n",
       "    <tr>\n",
       "      <th id=\"T_0c680_level0_row0\" class=\"row_heading level0 row0\" >offer_id</th>\n",
       "      <td id=\"T_0c680_row0_col0\" class=\"data row0 col0\" >0.00%</td>\n",
       "    </tr>\n",
       "    <tr>\n",
       "      <th id=\"T_0c680_level0_row1\" class=\"row_heading level0 row1\" >first_day_exposition</th>\n",
       "      <td id=\"T_0c680_row1_col0\" class=\"data row1 col0\" >0.00%</td>\n",
       "    </tr>\n",
       "    <tr>\n",
       "      <th id=\"T_0c680_level0_row2\" class=\"row_heading level0 row2\" >last_day_exposition</th>\n",
       "      <td id=\"T_0c680_row2_col0\" class=\"data row2 col0\" >0.00%</td>\n",
       "    </tr>\n",
       "    <tr>\n",
       "      <th id=\"T_0c680_level0_row3\" class=\"row_heading level0 row3\" >last_price</th>\n",
       "      <td id=\"T_0c680_row3_col0\" class=\"data row3 col0\" >0.00%</td>\n",
       "    </tr>\n",
       "    <tr>\n",
       "      <th id=\"T_0c680_level0_row4\" class=\"row_heading level0 row4\" >floor</th>\n",
       "      <td id=\"T_0c680_row4_col0\" class=\"data row4 col0\" >0.00%</td>\n",
       "    </tr>\n",
       "    <tr>\n",
       "      <th id=\"T_0c680_level0_row5\" class=\"row_heading level0 row5\" >open_plan</th>\n",
       "      <td id=\"T_0c680_row5_col0\" class=\"data row5 col0\" >0.00%</td>\n",
       "    </tr>\n",
       "    <tr>\n",
       "      <th id=\"T_0c680_level0_row6\" class=\"row_heading level0 row6\" >rooms</th>\n",
       "      <td id=\"T_0c680_row6_col0\" class=\"data row6 col0\" >0.00%</td>\n",
       "    </tr>\n",
       "    <tr>\n",
       "      <th id=\"T_0c680_level0_row7\" class=\"row_heading level0 row7\" >studio</th>\n",
       "      <td id=\"T_0c680_row7_col0\" class=\"data row7 col0\" >0.00%</td>\n",
       "    </tr>\n",
       "    <tr>\n",
       "      <th id=\"T_0c680_level0_row8\" class=\"row_heading level0 row8\" >area</th>\n",
       "      <td id=\"T_0c680_row8_col0\" class=\"data row8 col0\" >0.00%</td>\n",
       "    </tr>\n",
       "    <tr>\n",
       "      <th id=\"T_0c680_level0_row9\" class=\"row_heading level0 row9\" >kitchen_area</th>\n",
       "      <td id=\"T_0c680_row9_col0\" class=\"data row9 col0\" >20.41%</td>\n",
       "    </tr>\n",
       "    <tr>\n",
       "      <th id=\"T_0c680_level0_row10\" class=\"row_heading level0 row10\" >living_area</th>\n",
       "      <td id=\"T_0c680_row10_col0\" class=\"data row10 col0\" >15.06%</td>\n",
       "    </tr>\n",
       "    <tr>\n",
       "      <th id=\"T_0c680_level0_row11\" class=\"row_heading level0 row11\" >agent_fee</th>\n",
       "      <td id=\"T_0c680_row11_col0\" class=\"data row11 col0\" >65.23%</td>\n",
       "    </tr>\n",
       "    <tr>\n",
       "      <th id=\"T_0c680_level0_row12\" class=\"row_heading level0 row12\" >renovation</th>\n",
       "      <td id=\"T_0c680_row12_col0\" class=\"data row12 col0\" >31.11%</td>\n",
       "    </tr>\n",
       "    <tr>\n",
       "      <th id=\"T_0c680_level0_row13\" class=\"row_heading level0 row13\" >offer_type</th>\n",
       "      <td id=\"T_0c680_row13_col0\" class=\"data row13 col0\" >0.00%</td>\n",
       "    </tr>\n",
       "    <tr>\n",
       "      <th id=\"T_0c680_level0_row14\" class=\"row_heading level0 row14\" >category_type</th>\n",
       "      <td id=\"T_0c680_row14_col0\" class=\"data row14 col0\" >0.00%</td>\n",
       "    </tr>\n",
       "    <tr>\n",
       "      <th id=\"T_0c680_level0_row15\" class=\"row_heading level0 row15\" >unified_address</th>\n",
       "      <td id=\"T_0c680_row15_col0\" class=\"data row15 col0\" >0.00%</td>\n",
       "    </tr>\n",
       "    <tr>\n",
       "      <th id=\"T_0c680_level0_row16\" class=\"row_heading level0 row16\" >building_id</th>\n",
       "      <td id=\"T_0c680_row16_col0\" class=\"data row16 col0\" >0.00%</td>\n",
       "    </tr>\n",
       "  </tbody>\n",
       "</table>\n"
      ],
      "text/plain": [
       "<pandas.io.formats.style.Styler at 0x7f5974724ac0>"
      ]
     },
     "execution_count": 4,
     "metadata": {},
     "output_type": "execute_result"
    }
   ],
   "source": [
    "(spb_df.isna().sum() / len(spb_df)).rename('percent of NA').to_frame().style.bar(vmax=1, vmin=0).format('{:.2%}')\n",
    "#CHECK"
   ]
  },
  {
   "cell_type": "markdown",
   "metadata": {},
   "source": [
    "#### Later will be hadled through a pipeline "
   ]
  },
  {
   "cell_type": "code",
   "execution_count": 5,
   "metadata": {},
   "outputs": [
    {
     "data": {
      "text/plain": [
       "<seaborn.axisgrid.FacetGrid at 0x7f5974724e50>"
      ]
     },
     "execution_count": 5,
     "metadata": {},
     "output_type": "execute_result"
    },
    {
     "data": {
      "image/png": "[encoded data removed]",
      "text/plain": [
       "<Figure size 1080x1440 with 11 Axes>"
      ]
     },
     "metadata": {
      "needs_background": "light"
     },
     "output_type": "display_data"
    }
   ],
   "source": [
    "sns.relplot(data=spb_df.select_dtypes('number').melt(id_vars=['last_price']),\n",
    "            x='value', y='last_price', col='variable', col_wrap=3, \n",
    "            facet_kws=dict(sharex=False)\n",
    "           )"
   ]
  },
  {
   "cell_type": "code",
   "execution_count": 6,
   "metadata": {},
   "outputs": [
    {
     "data": {
      "text/plain": [
       "<AxesSubplot:xlabel='offer_type', ylabel='last_price'>"
      ]
     },
     "execution_count": 6,
     "metadata": {},
     "output_type": "execute_result"
    },
    {
     "data": {
      "image/png": "[encoded data removed]",
      "text/plain": [
       "<Figure size 432x288 with 1 Axes>"
      ]
     },
     "metadata": {
      "needs_background": "light"
     },
     "output_type": "display_data"
    }
   ],
   "source": [
    "sns.stripplot(data=spb_df, x='offer_type', y='last_price', linewidth=1)"
   ]
  },
  {
   "cell_type": "markdown",
   "metadata": {},
   "source": [
    "### Analyze prices for rent and sell\n",
    "We see that we have both RENT and SELL data. \n",
    "<p>offer_type column contains data to distinct them, 2 stands for RENT, 1 for SELL\n"
   ]
  },
  {
   "cell_type": "markdown",
   "metadata": {},
   "source": [
    "#### Analyze `rent prices` and `sell prices`"
   ]
  },
  {
   "cell_type": "code",
   "execution_count": 7,
   "metadata": {},
   "outputs": [
    {
     "name": "stdout",
     "output_type": "stream",
     "text": [
      "Total rent data size: 171186\n",
      "Total sell data size: 258001\n",
      "---\n",
      "Rent data size in city limits: 156054\n",
      "Sell data size in city limits: 197792\n"
     ]
    }
   ],
   "source": [
    "rent_df = spb_df[spb_df.offer_type == 2]\n",
    "sell_df = spb_df[spb_df.offer_type == 1]\n",
    "\n",
    "rent_df_spb = rent_df[rent_df.unified_address.str.contains('Россия, Санкт-Петербург')]\n",
    "sell_df_spb = sell_df[sell_df.unified_address.str.contains('Россия, Санкт-Петербург')]\n",
    "# .format function allows you to put variales' values instead of {} in the final string\n",
    "print(\"Total rent data size: {}\".format(len(rent_df)))\n",
    "print(\"Total sell data size: {}\".format(len(sell_df)))\n",
    "print('---')\n",
    "print(\"Rent data size in city limits: {}\".format(len(rent_df_spb)))\n",
    "print(\"Sell data size in city limits: {}\".format(len(sell_df_spb)))"
   ]
  },
  {
   "cell_type": "code",
   "execution_count": 9,
   "metadata": {},
   "outputs": [
    {
     "data": {
      "text/plain": [
       "(171186, 17)"
      ]
     },
     "execution_count": 9,
     "metadata": {},
     "output_type": "execute_result"
    }
   ],
   "source": [
    "rent_df.shape"
   ]
  },
  {
   "cell_type": "code",
   "execution_count": 10,
   "metadata": {},
   "outputs": [
    {
     "data": {
      "text/plain": [
       "(156054, 17)"
      ]
     },
     "execution_count": 10,
     "metadata": {},
     "output_type": "execute_result"
    }
   ],
   "source": [
    "rent_df_spb.shape"
   ]
  },
  {
   "cell_type": "markdown",
   "metadata": {},
   "source": [
    "##### We will work with the dataset without Len oblast next "
   ]
  },
  {
   "cell_type": "markdown",
   "metadata": {},
   "source": [
    "### BEFORE CLEANING"
   ]
  },
  {
   "cell_type": "markdown",
   "metadata": {},
   "source": [
    "#### Find median and mean for apartments `in rent` and `for sale` before cleaning"
   ]
  },
  {
   "cell_type": "code",
   "execution_count": 11,
   "metadata": {},
   "outputs": [
    {
     "name": "stdout",
     "output_type": "stream",
     "text": [
      "Rent median price: 25000\n",
      "Rent mean price: 31719\n",
      "Sell median price: 4599000\n",
      "Sell mean price: 6969288\n",
      "---\n",
      "In city limits:\n",
      "Rent median price in city limits: 25000\n",
      "Rent mean price in city limits: 33015\n",
      "Sell median price in city limits: 5300000\n",
      "Sell mean price in city limits: 8151204\n"
     ]
    }
   ],
   "source": [
    "def median(df):\n",
    "    median = int(df.last_price.median())\n",
    "    return median\n",
    "\n",
    "def mean(df):\n",
    "    mean = int(df.last_price.mean())\n",
    "    return mean\n",
    "\n",
    "rent_median_price = median(rent_df)\n",
    "rent_mean_price = mean(rent_df)\n",
    "print(\"Rent median price: {}\".format(rent_median_price))\n",
    "print(\"Rent mean price: {}\".format(rent_mean_price))\n",
    "sell_median_price = median(sell_df)\n",
    "sell_mean_price = mean(sell_df)\n",
    "print(\"Sell median price: {}\".format(sell_median_price))\n",
    "print(\"Sell mean price: {}\".format(sell_mean_price))\n",
    "\n",
    "print('---')\n",
    "\n",
    "print(\"In city limits:\")\n",
    "rent_spb_median_price = median(rent_df_spb)\n",
    "rent_spb_mean_price = mean(rent_df_spb)\n",
    "print(\"Rent median price in city limits: {}\".format(rent_spb_median_price))\n",
    "print(\"Rent mean price in city limits: {}\".format(rent_spb_mean_price))\n",
    "sell_spb_median_price = median(sell_df_spb)\n",
    "sell_spb_mean_price = mean(sell_df_spb)\n",
    "print(\"Sell median price in city limits: {}\".format(sell_spb_median_price))\n",
    "print(\"Sell mean price in city limits: {}\".format(sell_spb_mean_price))"
   ]
  },
  {
   "cell_type": "markdown",
   "metadata": {},
   "source": [
    "Mean values changed more because median is more robust to outliers "
   ]
  },
  {
   "cell_type": "markdown",
   "metadata": {},
   "source": [
    "#### Let's look at the most expensive and cheapest apartments `in rent` and `for sale` without Leningrad Oblast"
   ]
  },
  {
   "cell_type": "code",
   "execution_count": 12,
   "metadata": {},
   "outputs": [
    {
     "name": "stdout",
     "output_type": "stream",
     "text": [
      "Max price in rent: 4900000 per month\n",
      "Min price in rent: 130 per month\n",
      "Max price for sale: 763000000\n",
      "Min price for sale: 19000\n"
     ]
    }
   ],
   "source": [
    "max_price_rent = int(rent_df_spb.last_price.max())\n",
    "print(\"Max price in rent: {} per month\".format(max_price_rent))\n",
    "min_price_rent = int(rent_df_spb.last_price.min())\n",
    "print(\"Min price in rent: {} per month\".format(min_price_rent))\n",
    "\n",
    "max_price_sell = int(sell_df_spb.last_price.max())\n",
    "print(\"Max price for sale: {}\".format(max_price_sell))\n",
    "min_price_sell = int(sell_df_spb.last_price.min())\n",
    "print(\"Min price for sale: {}\".format(min_price_sell))"
   ]
  },
  {
   "cell_type": "markdown",
   "metadata": {},
   "source": [
    "#### Calculate price per square meter, get median and mean prices`for rent` and `for sale`"
   ]
  },
  {
   "cell_type": "code",
   "execution_count": 13,
   "metadata": {},
   "outputs": [
    {
     "name": "stdout",
     "output_type": "stream",
     "text": [
      "Median price per sq m in rent: 555\n",
      "Mean price per sq m in rent: 610\n",
      "Median price per sq m for sale: 102285\n",
      "Mean price per sq m for sale: 113645\n"
     ]
    },
    {
     "name": "stderr",
     "output_type": "stream",
     "text": [
      "/tmp/ipykernel_499/4232408214.py:1: SettingWithCopyWarning: \n",
      "A value is trying to be set on a copy of a slice from a DataFrame.\n",
      "Try using .loc[row_indexer,col_indexer] = value instead\n",
      "\n",
      "See the caveats in the documentation: https://pandas.pydata.org/pandas-docs/stable/user_guide/indexing.html#returning-a-view-versus-a-copy\n",
      "  rent_df_spb['price_per_sq_m'] = rent_df_spb.last_price/rent_df_spb.area\n",
      "/tmp/ipykernel_499/4232408214.py:2: SettingWithCopyWarning: \n",
      "A value is trying to be set on a copy of a slice from a DataFrame.\n",
      "Try using .loc[row_indexer,col_indexer] = value instead\n",
      "\n",
      "See the caveats in the documentation: https://pandas.pydata.org/pandas-docs/stable/user_guide/indexing.html#returning-a-view-versus-a-copy\n",
      "  sell_df_spb['price_per_sq_m'] = sell_df_spb.last_price/sell_df_spb.area\n"
     ]
    }
   ],
   "source": [
    "rent_df_spb['price_per_sq_m'] = rent_df_spb.last_price/rent_df_spb.area\n",
    "sell_df_spb['price_per_sq_m'] = sell_df_spb.last_price/sell_df_spb.area\n",
    "\n",
    "median_price_per_sq_m_rent = int(rent_df_spb.price_per_sq_m.median())\n",
    "mean_price_per_sq_m_rent = int(rent_df_spb.price_per_sq_m.mean())\n",
    "print(\"Median price per sq m in rent: {}\".format(median_price_per_sq_m_rent))\n",
    "print(\"Mean price per sq m in rent: {}\".format(mean_price_per_sq_m_rent))\n",
    "\n",
    "median_price_per_sq_m_sell = int(sell_df_spb.price_per_sq_m.median())\n",
    "mean_price_per_sq_m_sell = int(sell_df_spb.price_per_sq_m.mean())\n",
    "print(\"Median price per sq m for sale: {}\".format(median_price_per_sq_m_sell))\n",
    "print(\"Mean price per sq m for sale: {}\".format(mean_price_per_sq_m_sell))"
   ]
  },
  {
   "cell_type": "code",
   "execution_count": 14,
   "metadata": {},
   "outputs": [
    {
     "data": {
      "text/plain": [
       "(156054, 18)"
      ]
     },
     "execution_count": 14,
     "metadata": {},
     "output_type": "execute_result"
    }
   ],
   "source": [
    "rent_df_spb.shape"
   ]
  },
  {
   "cell_type": "code",
   "execution_count": 15,
   "metadata": {},
   "outputs": [
    {
     "data": {
      "text/plain": [
       "(197792, 18)"
      ]
     },
     "execution_count": 15,
     "metadata": {},
     "output_type": "execute_result"
    }
   ],
   "source": [
    "sell_df_spb.shape"
   ]
  },
  {
   "cell_type": "markdown",
   "metadata": {},
   "source": [
    "#### Find median price per sq m per house `for rent` and `for sale`"
   ]
  },
  {
   "cell_type": "code",
   "execution_count": 22,
   "metadata": {},
   "outputs": [],
   "source": [
    "house_rent_df = rent_df_spb.groupby('unified_address').price_per_sq_m.median().reset_index()\n",
    "house_sell_df = sell_df_spb.groupby('unified_address').price_per_sq_m.median().reset_index()\n",
    "\n",
    "house_rent_df.rename(columns = {'price_per_sq_m': 'house_price_sqm_median'}, inplace = True)\n",
    "house_sell_df.rename(columns = {'price_per_sq_m': 'house_price_sqm_median'}, inplace = True)"
   ]
  },
  {
   "cell_type": "code",
   "execution_count": 19,
   "metadata": {},
   "outputs": [
    {
     "data": {
      "text/plain": [
       "(19857, 2)"
      ]
     },
     "execution_count": 19,
     "metadata": {},
     "output_type": "execute_result"
    }
   ],
   "source": [
    "house_rent_df.shape"
   ]
  },
  {
   "cell_type": "code",
   "execution_count": 20,
   "metadata": {},
   "outputs": [
    {
     "data": {
      "text/plain": [
       "(22972, 2)"
      ]
     },
     "execution_count": 20,
     "metadata": {},
     "output_type": "execute_result"
    }
   ],
   "source": [
    "house_sell_df.shape"
   ]
  },
  {
   "cell_type": "code",
   "execution_count": 35,
   "metadata": {},
   "outputs": [
    {
     "data": {
      "text/html": [
       "<div>\n",
       "<style scoped>\n",
       "    .dataframe tbody tr th:only-of-type {\n",
       "        vertical-align: middle;\n",
       "    }\n",
       "\n",
       "    .dataframe tbody tr th {\n",
       "        vertical-align: top;\n",
       "    }\n",
       "\n",
       "    .dataframe thead th {\n",
       "        text-align: right;\n",
       "    }\n",
       "</style>\n",
       "<table border=\"1\" class=\"dataframe\">\n",
       "  <thead>\n",
       "    <tr style=\"text-align: right;\">\n",
       "      <th></th>\n",
       "      <th>unified_address</th>\n",
       "      <th>house_price_sqm_median</th>\n",
       "    </tr>\n",
       "  </thead>\n",
       "  <tbody>\n",
       "    <tr>\n",
       "      <th>0</th>\n",
       "      <td>Россия, Санкт-Петербург, 1-й Муринский проспект, 11</td>\n",
       "      <td>571.383648</td>\n",
       "    </tr>\n",
       "    <tr>\n",
       "      <th>1</th>\n",
       "      <td>Россия, Санкт-Петербург, 1-й Муринский проспект, 13</td>\n",
       "      <td>500.000000</td>\n",
       "    </tr>\n",
       "    <tr>\n",
       "      <th>2</th>\n",
       "      <td>Россия, Санкт-Петербург, 1-й Муринский проспект, 15</td>\n",
       "      <td>569.743935</td>\n",
       "    </tr>\n",
       "    <tr>\n",
       "      <th>3</th>\n",
       "      <td>Россия, Санкт-Петербург, 1-й Муринский проспект, 17</td>\n",
       "      <td>600.000000</td>\n",
       "    </tr>\n",
       "    <tr>\n",
       "      <th>4</th>\n",
       "      <td>Россия, Санкт-Петербург, 1-й Муринский проспект, 19</td>\n",
       "      <td>482.142857</td>\n",
       "    </tr>\n",
       "    <tr>\n",
       "      <th>...</th>\n",
       "      <td>...</td>\n",
       "      <td>...</td>\n",
       "    </tr>\n",
       "    <tr>\n",
       "      <th>19852</th>\n",
       "      <td>Россия, Санкт-Петербург, шоссе Революции, 50</td>\n",
       "      <td>511.111111</td>\n",
       "    </tr>\n",
       "    <tr>\n",
       "      <th>19853</th>\n",
       "      <td>Россия, Санкт-Петербург, шоссе Революции, 84</td>\n",
       "      <td>485.714286</td>\n",
       "    </tr>\n",
       "    <tr>\n",
       "      <th>19854</th>\n",
       "      <td>Россия, Санкт-Петербург, шоссе Революции, 84к1</td>\n",
       "      <td>628.571429</td>\n",
       "    </tr>\n",
       "    <tr>\n",
       "      <th>19855</th>\n",
       "      <td>Россия, Санкт-Петербург, шоссе Революции, 8А</td>\n",
       "      <td>550.000000</td>\n",
       "    </tr>\n",
       "    <tr>\n",
       "      <th>19856</th>\n",
       "      <td>Россия, Санкт-Петербург, шоссе Революции, 9</td>\n",
       "      <td>362.500000</td>\n",
       "    </tr>\n",
       "  </tbody>\n",
       "</table>\n",
       "<p>19857 rows × 2 columns</p>\n",
       "</div>"
      ],
      "text/plain": [
       "                                           unified_address  house_price_sqm_median\n",
       "0      Россия, Санкт-Петербург, 1-й Муринский проспект, 11              571.383648\n",
       "1      Россия, Санкт-Петербург, 1-й Муринский проспект, 13              500.000000\n",
       "2      Россия, Санкт-Петербург, 1-й Муринский проспект, 15              569.743935\n",
       "3      Россия, Санкт-Петербург, 1-й Муринский проспект, 17              600.000000\n",
       "4      Россия, Санкт-Петербург, 1-й Муринский проспект, 19              482.142857\n",
       "...                                                    ...                     ...\n",
       "19852         Россия, Санкт-Петербург, шоссе Революции, 50              511.111111\n",
       "19853         Россия, Санкт-Петербург, шоссе Революции, 84              485.714286\n",
       "19854       Россия, Санкт-Петербург, шоссе Революции, 84к1              628.571429\n",
       "19855         Россия, Санкт-Петербург, шоссе Революции, 8А              550.000000\n",
       "19856          Россия, Санкт-Петербург, шоссе Революции, 9              362.500000\n",
       "\n",
       "[19857 rows x 2 columns]"
      ]
     },
     "execution_count": 35,
     "metadata": {},
     "output_type": "execute_result"
    }
   ],
   "source": [
    "house_rent_df"
   ]
  },
  {
   "cell_type": "code",
   "execution_count": 36,
   "metadata": {},
   "outputs": [
    {
     "data": {
      "text/html": [
       "<div>\n",
       "<style scoped>\n",
       "    .dataframe tbody tr th:only-of-type {\n",
       "        vertical-align: middle;\n",
       "    }\n",
       "\n",
       "    .dataframe tbody tr th {\n",
       "        vertical-align: top;\n",
       "    }\n",
       "\n",
       "    .dataframe thead th {\n",
       "        text-align: right;\n",
       "    }\n",
       "</style>\n",
       "<table border=\"1\" class=\"dataframe\">\n",
       "  <thead>\n",
       "    <tr style=\"text-align: right;\">\n",
       "      <th></th>\n",
       "      <th>unified_address</th>\n",
       "      <th>house_price_sqm_median</th>\n",
       "    </tr>\n",
       "  </thead>\n",
       "  <tbody>\n",
       "    <tr>\n",
       "      <th>0</th>\n",
       "      <td>Россия, Санкт-Петербург, 1-й Муринский проспект, 11</td>\n",
       "      <td>102630.689500</td>\n",
       "    </tr>\n",
       "    <tr>\n",
       "      <th>1</th>\n",
       "      <td>Россия, Санкт-Петербург, 1-й Муринский проспект, 13</td>\n",
       "      <td>99834.656085</td>\n",
       "    </tr>\n",
       "    <tr>\n",
       "      <th>2</th>\n",
       "      <td>Россия, Санкт-Петербург, 1-й Муринский проспект, 15</td>\n",
       "      <td>91615.179391</td>\n",
       "    </tr>\n",
       "    <tr>\n",
       "      <th>3</th>\n",
       "      <td>Россия, Санкт-Петербург, 1-й Муринский проспект, 17</td>\n",
       "      <td>79189.163588</td>\n",
       "    </tr>\n",
       "    <tr>\n",
       "      <th>4</th>\n",
       "      <td>Россия, Санкт-Петербург, 1-й Муринский проспект, 19</td>\n",
       "      <td>97281.369639</td>\n",
       "    </tr>\n",
       "    <tr>\n",
       "      <th>...</th>\n",
       "      <td>...</td>\n",
       "      <td>...</td>\n",
       "    </tr>\n",
       "    <tr>\n",
       "      <th>22967</th>\n",
       "      <td>Россия, Санкт-Петербург, шоссе Революции, 51</td>\n",
       "      <td>67027.027027</td>\n",
       "    </tr>\n",
       "    <tr>\n",
       "      <th>22968</th>\n",
       "      <td>Россия, Санкт-Петербург, шоссе Революции, 51Б</td>\n",
       "      <td>82894.736842</td>\n",
       "    </tr>\n",
       "    <tr>\n",
       "      <th>22969</th>\n",
       "      <td>Россия, Санкт-Петербург, шоссе Революции, 84к1</td>\n",
       "      <td>84745.762712</td>\n",
       "    </tr>\n",
       "    <tr>\n",
       "      <th>22970</th>\n",
       "      <td>Россия, Санкт-Петербург, шоссе Революции, 88Д</td>\n",
       "      <td>98639.455782</td>\n",
       "    </tr>\n",
       "    <tr>\n",
       "      <th>22971</th>\n",
       "      <td>Россия, Санкт-Петербург, шоссе Революции, 9</td>\n",
       "      <td>101398.468553</td>\n",
       "    </tr>\n",
       "  </tbody>\n",
       "</table>\n",
       "<p>22972 rows × 2 columns</p>\n",
       "</div>"
      ],
      "text/plain": [
       "                                           unified_address  house_price_sqm_median\n",
       "0      Россия, Санкт-Петербург, 1-й Муринский проспект, 11           102630.689500\n",
       "1      Россия, Санкт-Петербург, 1-й Муринский проспект, 13            99834.656085\n",
       "2      Россия, Санкт-Петербург, 1-й Муринский проспект, 15            91615.179391\n",
       "3      Россия, Санкт-Петербург, 1-й Муринский проспект, 17            79189.163588\n",
       "4      Россия, Санкт-Петербург, 1-й Муринский проспект, 19            97281.369639\n",
       "...                                                    ...                     ...\n",
       "22967         Россия, Санкт-Петербург, шоссе Революции, 51            67027.027027\n",
       "22968        Россия, Санкт-Петербург, шоссе Революции, 51Б            82894.736842\n",
       "22969       Россия, Санкт-Петербург, шоссе Революции, 84к1            84745.762712\n",
       "22970        Россия, Санкт-Петербург, шоссе Революции, 88Д            98639.455782\n",
       "22971          Россия, Санкт-Петербург, шоссе Революции, 9           101398.468553\n",
       "\n",
       "[22972 rows x 2 columns]"
      ]
     },
     "execution_count": 36,
     "metadata": {},
     "output_type": "execute_result"
    }
   ],
   "source": [
    "house_sell_df"
   ]
  },
  {
   "cell_type": "markdown",
   "metadata": {},
   "source": [
    "#### Merge rent data with house median prices and inspect outliers `for rent` and `for sale`"
   ]
  },
  {
   "cell_type": "code",
   "execution_count": 24,
   "metadata": {},
   "outputs": [
    {
     "name": "stdout",
     "output_type": "stream",
     "text": [
      "N of MAX outliers in rent: 47\n",
      "N of MAX outliers for sale: 39\n"
     ]
    }
   ],
   "source": [
    "# As these 2 dataframes have only one common column name (unified_address) it will merge dataframes by it\n",
    "rent_df_merged = rent_df_spb.merge(house_rent_df)\n",
    "# Assign outliers if price per sq m is 5 times higher than the median value in the house\n",
    "outliers_rent = rent_df_merged[(rent_df_merged.price_per_sq_m/rent_df_merged.house_price_sqm_median) > 5]\n",
    "\n",
    "sell_df_merged = sell_df_spb.merge(house_sell_df)\n",
    "outliers_sell = sell_df_merged[(sell_df_merged.price_per_sq_m/sell_df_merged.house_price_sqm_median) > 5]\n",
    "\n",
    "print(f'N of MAX outliers in rent: {len(outliers_rent)}')\n",
    "print(f'N of MAX outliers for sale: {len(outliers_sell)}')"
   ]
  },
  {
   "cell_type": "code",
   "execution_count": 25,
   "metadata": {},
   "outputs": [
    {
     "data": {
      "text/plain": [
       "(156054, 19)"
      ]
     },
     "execution_count": 25,
     "metadata": {},
     "output_type": "execute_result"
    }
   ],
   "source": [
    "rent_df_merged.shape"
   ]
  },
  {
   "cell_type": "code",
   "execution_count": 26,
   "metadata": {},
   "outputs": [
    {
     "data": {
      "text/plain": [
       "(197792, 19)"
      ]
     },
     "execution_count": 26,
     "metadata": {},
     "output_type": "execute_result"
    }
   ],
   "source": [
    "sell_df_merged.shape"
   ]
  },
  {
   "cell_type": "markdown",
   "metadata": {},
   "source": [
    "#### Clean data from the MAX outliers `for rent` and `for sale`"
   ]
  },
  {
   "cell_type": "code",
   "execution_count": 27,
   "metadata": {},
   "outputs": [
    {
     "data": {
      "text/plain": [
       "<AxesSubplot:>"
      ]
     },
     "execution_count": 27,
     "metadata": {},
     "output_type": "execute_result"
    },
    {
     "data": {
      "image/png": "[encoded data removed]",
      "text/plain": [
       "<Figure size 576x288 with 1 Axes>"
      ]
     },
     "metadata": {},
     "output_type": "display_data"
    }
   ],
   "source": [
    "sns.set(rc = {'figure.figsize':(8, 4)})\n",
    "sns.boxplot(data=rent_df_merged['last_price'],orient='h')"
   ]
  },
  {
   "cell_type": "code",
   "execution_count": 28,
   "metadata": {},
   "outputs": [
    {
     "data": {
      "text/plain": [
       "<AxesSubplot:>"
      ]
     },
     "execution_count": 28,
     "metadata": {},
     "output_type": "execute_result"
    },
    {
     "data": {
      "image/png": "[encoded data removed]",
      "text/plain": [
       "<Figure size 576x288 with 1 Axes>"
      ]
     },
     "metadata": {},
     "output_type": "display_data"
    }
   ],
   "source": [
    "sns.set(rc = {'figure.figsize':(8, 4)})\n",
    "sns.boxplot(data=sell_df_merged['last_price'],orient='h')"
   ]
  },
  {
   "cell_type": "code",
   "execution_count": 32,
   "metadata": {},
   "outputs": [],
   "source": [
    "rent_df_cleaned = rent_df_merged[~((rent_df_merged.price_per_sq_m/rent_df_merged.house_price_sqm_median) > 5)]\n",
    "rent_df_cleaned = rent_df_cleaned[rent_df_cleaned.last_price < 1000000]\n",
    "\n",
    "sell_df_cleaned = sell_df_merged[~((sell_df_merged.price_per_sq_m/sell_df_merged.house_price_sqm_median) > 5)]\n",
    "sell_df_cleaned = sell_df_cleaned[sell_df_cleaned.last_price < 400000000]"
   ]
  },
  {
   "cell_type": "code",
   "execution_count": 35,
   "metadata": {},
   "outputs": [
    {
     "name": "stdout",
     "output_type": "stream",
     "text": [
      "Outliers found in rent: 8\n",
      "Outliers found in sale: 82\n"
     ]
    }
   ],
   "source": [
    "outliers_count_rent = len(rent_df_cleaned[(rent_df_cleaned.price_per_sq_m > 3000) \n",
    "                                     & ((rent_df_cleaned.house_price_sqm_median < 1000) \n",
    "                                        | (rent_df_cleaned.house_price_sqm_median == rent_df_cleaned.price_per_sq_m))])\n",
    "print(\"Outliers found in rent: {}\".format(outliers_count_rent))\n",
    "rent_df_cleaned = rent_df_cleaned[~((rent_df_cleaned.price_per_sq_m > 3000) \n",
    "                                     & ((rent_df_cleaned.house_price_sqm_median < 1000) \n",
    "                                        | (rent_df_cleaned.house_price_sqm_median == rent_df_cleaned.price_per_sq_m)))]\n",
    "\n",
    "outliers_count_sell = len(sell_df_cleaned[(sell_df_cleaned.price_per_sq_m > 460000) \n",
    "                                     & ((sell_df_cleaned.house_price_sqm_median < 170000) \n",
    "                                        | (sell_df_cleaned.house_price_sqm_median == sell_df_cleaned.price_per_sq_m))])\n",
    "print(\"Outliers found in sale: {}\".format(outliers_count_sell))\n",
    "sell_df_cleaned = sell_df_cleaned[~((sell_df_cleaned.price_per_sq_m > 460000) \n",
    "                                     & ((sell_df_cleaned.house_price_sqm_median < 170000) \n",
    "                                        | (sell_df_cleaned.house_price_sqm_median == sell_df_cleaned.price_per_sq_m)))]"
   ]
  },
  {
   "cell_type": "code",
   "execution_count": 36,
   "metadata": {},
   "outputs": [
    {
     "data": {
      "text/plain": [
       "(156054, 19)"
      ]
     },
     "execution_count": 36,
     "metadata": {},
     "output_type": "execute_result"
    }
   ],
   "source": [
    "rent_df_merged.shape, sell_df_merged.shape"
   ]
  },
  {
   "cell_type": "markdown",
   "metadata": {},
   "source": [
    "#### Outliers for rent"
   ]
  },
  {
   "cell_type": "code",
   "execution_count": 38,
   "metadata": {},
   "outputs": [
    {
     "data": {
      "text/plain": [
       "<AxesSubplot:>"
      ]
     },
     "execution_count": 38,
     "metadata": {},
     "output_type": "execute_result"
    },
    {
     "data": {
      "image/png": "[encoded data removed]",
      "text/plain": [
       "<Figure size 576x288 with 1 Axes>"
      ]
     },
     "metadata": {},
     "output_type": "display_data"
    }
   ],
   "source": [
    "sns.set(rc = {'figure.figsize':(8, 4)})\n",
    "sns.boxplot(data=rent_df_cleaned['last_price'], orient='h')"
   ]
  },
  {
   "cell_type": "code",
   "execution_count": 39,
   "metadata": {},
   "outputs": [],
   "source": [
    "def out_iqr(df , column):\n",
    "    global lower,upper\n",
    "    q25, q85 = np.quantile(df[column], 0.25), np.quantile(df[column], 0.85)\n",
    "    # calculate the IQR\n",
    "    iqr = q85 - q25\n",
    "    # calculate the outlier cutoff\n",
    "    cut_off = iqr * 13\n",
    "    # calculate the lower and upper bound value\n",
    "    lower, upper = q25 - cut_off, q85 + cut_off\n",
    "    print('The IQR is',iqr)\n",
    "    print('The lower bound value is', lower)\n",
    "    print('The upper bound value is', upper)\n",
    "    \n",
    "    # Calculate the number of records below and above lower and above bound value respectively\n",
    "    df1 = df[df[column] > upper]\n",
    "    df2 = df[df[column] < lower]\n",
    "    print('Total number of outliers (min) are', df2.shape[0])\n",
    "    print('Total number of outliers (max) are', df1.shape[0])\n",
    "    return print('Total number of outliers are', df1.shape[0] + df2.shape[0])"
   ]
  },
  {
   "cell_type": "code",
   "execution_count": 42,
   "metadata": {},
   "outputs": [
    {
     "name": "stdout",
     "output_type": "stream",
     "text": [
      "The IQR is 25000.0\n",
      "The lower bound value is -305000.0\n",
      "The upper bound value is 370000.0\n",
      "Total number of outliers (min) are 0\n",
      "Total number of outliers (max) are 30\n",
      "Total number of outliers are 30\n"
     ]
    }
   ],
   "source": [
    "out_iqr(rent_df_cleaned,'last_price') "
   ]
  },
  {
   "cell_type": "code",
   "execution_count": 43,
   "metadata": {},
   "outputs": [
    {
     "name": "stderr",
     "output_type": "stream",
     "text": [
      "/opt/conda/lib/python3.9/site-packages/seaborn/distributions.py:2619: FutureWarning: `distplot` is a deprecated function and will be removed in a future version. Please adapt your code to use either `displot` (a figure-level function with similar flexibility) or `histplot` (an axes-level function for histograms).\n",
      "  warnings.warn(msg, FutureWarning)\n"
     ]
    },
    {
     "data": {
      "text/plain": [
       "<matplotlib.patches.Polygon at 0x7f596dc93280>"
      ]
     },
     "execution_count": 43,
     "metadata": {},
     "output_type": "execute_result"
    },
    {
     "data": {
      "image/png": "[encoded data removed]",
      "text/plain": [
       "<Figure size 720x432 with 1 Axes>"
      ]
     },
     "metadata": {},
     "output_type": "display_data"
    }
   ],
   "source": [
    "plt.figure(figsize = (10,6))\n",
    "sns.distplot(rent_df_cleaned['last_price'], kde=False)\n",
    "plt.axvspan(xmin = lower,xmax= rent_df_cleaned['last_price'].min(),alpha=0.2, color='red')\n",
    "plt.axvspan(xmin = upper,xmax= rent_df_cleaned['last_price'].max(),alpha=0.2, color='red')"
   ]
  },
  {
   "cell_type": "code",
   "execution_count": 44,
   "metadata": {},
   "outputs": [],
   "source": [
    "rent_df_cleaned = rent_df_cleaned[(rent_df_cleaned['last_price'] < upper)] #if there is no lower, drop it"
   ]
  },
  {
   "cell_type": "code",
   "execution_count": 45,
   "metadata": {},
   "outputs": [
    {
     "data": {
      "text/plain": [
       "((156054, 19), (197792, 19))"
      ]
     },
     "execution_count": 45,
     "metadata": {},
     "output_type": "execute_result"
    }
   ],
   "source": [
    "rent_df_merged.shape, sell_df_merged.shape"
   ]
  },
  {
   "cell_type": "code",
   "execution_count": 46,
   "metadata": {},
   "outputs": [
    {
     "data": {
      "text/plain": [
       "<AxesSubplot:>"
      ]
     },
     "execution_count": 46,
     "metadata": {},
     "output_type": "execute_result"
    },
    {
     "data": {
      "image/png": "[encoded data removed]",
      "text/plain": [
       "<Figure size 576x288 with 1 Axes>"
      ]
     },
     "metadata": {},
     "output_type": "display_data"
    }
   ],
   "source": [
    "sns.set(rc = {'figure.figsize':(8, 4)})\n",
    "sns.boxplot(data=rent_df_cleaned['last_price'], orient='h')"
   ]
  },
  {
   "cell_type": "markdown",
   "metadata": {},
   "source": [
    "#### Outliers for sale"
   ]
  },
  {
   "cell_type": "code",
   "execution_count": 47,
   "metadata": {},
   "outputs": [
    {
     "name": "stderr",
     "output_type": "stream",
     "text": [
      "/opt/conda/lib/python3.9/site-packages/seaborn/_decorators.py:36: FutureWarning: Pass the following variable as a keyword arg: x. From version 0.12, the only valid positional argument will be `data`, and passing other arguments without an explicit keyword will result in an error or misinterpretation.\n",
      "  warnings.warn(\n"
     ]
    },
    {
     "data": {
      "text/plain": [
       "<AxesSubplot:xlabel='last_price'>"
      ]
     },
     "execution_count": 47,
     "metadata": {},
     "output_type": "execute_result"
    },
    {
     "data": {
      "image/png": "[encoded data removed]",
      "text/plain": [
       "<Figure size 576x288 with 1 Axes>"
      ]
     },
     "metadata": {},
     "output_type": "display_data"
    }
   ],
   "source": [
    "sns.set(rc = {'figure.figsize':(8, 4)})\n",
    "sns.boxplot(sell_df_cleaned['last_price'], orient='h')"
   ]
  },
  {
   "cell_type": "code",
   "execution_count": 48,
   "metadata": {},
   "outputs": [
    {
     "name": "stdout",
     "output_type": "stream",
     "text": [
      "The IQR is 7090000.0\n",
      "The lower bound value is -88270000.0\n",
      "The upper bound value is 103160000.0\n",
      "Total number of outliers (min) are 0\n",
      "Total number of outliers (max) are 512\n",
      "Total number of outliers are 512\n"
     ]
    }
   ],
   "source": [
    "out_iqr(sell_df_cleaned,'last_price') "
   ]
  },
  {
   "cell_type": "code",
   "execution_count": 49,
   "metadata": {},
   "outputs": [
    {
     "name": "stderr",
     "output_type": "stream",
     "text": [
      "/opt/conda/lib/python3.9/site-packages/seaborn/distributions.py:2619: FutureWarning: `distplot` is a deprecated function and will be removed in a future version. Please adapt your code to use either `displot` (a figure-level function with similar flexibility) or `histplot` (an axes-level function for histograms).\n",
      "  warnings.warn(msg, FutureWarning)\n"
     ]
    },
    {
     "data": {
      "text/plain": [
       "<matplotlib.patches.Polygon at 0x7f596dad5400>"
      ]
     },
     "execution_count": 49,
     "metadata": {},
     "output_type": "execute_result"
    },
    {
     "data": {
      "image/png": "[encoded data removed]",
      "text/plain": [
       "<Figure size 720x432 with 1 Axes>"
      ]
     },
     "metadata": {},
     "output_type": "display_data"
    }
   ],
   "source": [
    "plt.figure(figsize = (10,6))\n",
    "sns.distplot(sell_df_cleaned['last_price'], kde=False)\n",
    "plt.axvspan(xmin = lower,xmax= sell_df_cleaned['last_price'].min(),alpha=0.2, color='red')\n",
    "plt.axvspan(xmin = upper,xmax= sell_df_cleaned['last_price'].max(),alpha=0.2, color='red')"
   ]
  },
  {
   "cell_type": "code",
   "execution_count": 50,
   "metadata": {},
   "outputs": [],
   "source": [
    "sell_df_cleaned = sell_df_cleaned[(sell_df_cleaned['last_price'] < upper)] #if there is no lower, drop it"
   ]
  },
  {
   "cell_type": "code",
   "execution_count": 51,
   "metadata": {},
   "outputs": [
    {
     "name": "stderr",
     "output_type": "stream",
     "text": [
      "/opt/conda/lib/python3.9/site-packages/seaborn/_decorators.py:36: FutureWarning: Pass the following variable as a keyword arg: x. From version 0.12, the only valid positional argument will be `data`, and passing other arguments without an explicit keyword will result in an error or misinterpretation.\n",
      "  warnings.warn(\n"
     ]
    },
    {
     "data": {
      "text/plain": [
       "<AxesSubplot:xlabel='last_price'>"
      ]
     },
     "execution_count": 51,
     "metadata": {},
     "output_type": "execute_result"
    },
    {
     "data": {
      "image/png": "[encoded data removed]",
      "text/plain": [
       "<Figure size 576x288 with 1 Axes>"
      ]
     },
     "metadata": {},
     "output_type": "display_data"
    }
   ],
   "source": [
    "sns.set(rc = {'figure.figsize':(8, 4)})\n",
    "sns.boxplot(sell_df_cleaned['last_price'], orient='h')"
   ]
  },
  {
   "cell_type": "code",
   "execution_count": 52,
   "metadata": {},
   "outputs": [
    {
     "data": {
      "text/plain": [
       "((156054, 19), (197792, 19))"
      ]
     },
     "execution_count": 52,
     "metadata": {},
     "output_type": "execute_result"
    }
   ],
   "source": [
    "rent_df_merged.shape, sell_df_merged.shape"
   ]
  },
  {
   "cell_type": "markdown",
   "metadata": {},
   "source": [
    "#### Clean data from the MIN outliers `for rent` and `for sale`"
   ]
  },
  {
   "cell_type": "code",
   "execution_count": 53,
   "metadata": {},
   "outputs": [
    {
     "name": "stdout",
     "output_type": "stream",
     "text": [
      "Median price per sq m in St. Petersburg in rent: 555\n",
      "Mean price per sq m in St. Petersburg in rent: 600\n"
     ]
    }
   ],
   "source": [
    "median_price_per_sq_m_rent_cleaned = int(rent_df_cleaned.price_per_sq_m.median())\n",
    "mean_price_per_sq_m_rent_cleaned = int(rent_df_cleaned.price_per_sq_m.mean())\n",
    "print(\"Median price per sq m in St. Petersburg in rent: {}\".format(median_price_per_sq_m_rent_cleaned))\n",
    "print(\"Mean price per sq m in St. Petersburg in rent: {}\".format(mean_price_per_sq_m_rent_cleaned))"
   ]
  },
  {
   "cell_type": "code",
   "execution_count": 54,
   "metadata": {},
   "outputs": [
    {
     "name": "stdout",
     "output_type": "stream",
     "text": [
      "Number of cheap outliers 2x cheaper: 100\n"
     ]
    }
   ],
   "source": [
    "# it seems that we should clean all apartments where median price is at least 2x higher and cheap \n",
    "outliers = rent_df_cleaned[(rent_df_cleaned.price_per_sq_m < 250) \n",
    "                               & (rent_df_cleaned.house_price_sqm_median/rent_df_cleaned.price_per_sq_m >= 2)]\n",
    "print(\"Number of cheap outliers 2x cheaper: {}\".format(len(outliers)))"
   ]
  },
  {
   "cell_type": "code",
   "execution_count": 55,
   "metadata": {},
   "outputs": [
    {
     "data": {
      "text/html": [
       "<div>\n",
       "<style scoped>\n",
       "    .dataframe tbody tr th:only-of-type {\n",
       "        vertical-align: middle;\n",
       "    }\n",
       "\n",
       "    .dataframe tbody tr th {\n",
       "        vertical-align: top;\n",
       "    }\n",
       "\n",
       "    .dataframe thead th {\n",
       "        text-align: right;\n",
       "    }\n",
       "</style>\n",
       "<table border=\"1\" class=\"dataframe\">\n",
       "  <thead>\n",
       "    <tr style=\"text-align: right;\">\n",
       "      <th></th>\n",
       "      <th>offer_id</th>\n",
       "      <th>first_day_exposition</th>\n",
       "      <th>last_day_exposition</th>\n",
       "      <th>last_price</th>\n",
       "      <th>floor</th>\n",
       "      <th>open_plan</th>\n",
       "      <th>rooms</th>\n",
       "      <th>studio</th>\n",
       "      <th>area</th>\n",
       "      <th>kitchen_area</th>\n",
       "      <th>living_area</th>\n",
       "      <th>agent_fee</th>\n",
       "      <th>renovation</th>\n",
       "      <th>offer_type</th>\n",
       "      <th>category_type</th>\n",
       "      <th>unified_address</th>\n",
       "      <th>building_id</th>\n",
       "      <th>price_per_sq_m</th>\n",
       "      <th>house_price_sqm_median</th>\n",
       "    </tr>\n",
       "  </thead>\n",
       "  <tbody>\n",
       "    <tr>\n",
       "      <th>100303</th>\n",
       "      <td>801981697508642560</td>\n",
       "      <td>2016-06-20T00:00:00+03:00</td>\n",
       "      <td>2016-06-29T00:00:00+03:00</td>\n",
       "      <td>12000.0</td>\n",
       "      <td>6</td>\n",
       "      <td>False</td>\n",
       "      <td>5</td>\n",
       "      <td>False</td>\n",
       "      <td>156.0</td>\n",
       "      <td>23.0</td>\n",
       "      <td>16.0</td>\n",
       "      <td>50.0</td>\n",
       "      <td>11.0</td>\n",
       "      <td>2</td>\n",
       "      <td>2</td>\n",
       "      <td>Россия, Санкт-Петербург, Большая Зеленина улица, 12</td>\n",
       "      <td>7137635118733633172</td>\n",
       "      <td>76.923077</td>\n",
       "      <td>76.923077</td>\n",
       "    </tr>\n",
       "  </tbody>\n",
       "</table>\n",
       "</div>"
      ],
      "text/plain": [
       "                  offer_id       first_day_exposition        last_day_exposition  last_price  floor  open_plan  rooms  studio   area  kitchen_area  living_area  agent_fee  renovation  offer_type  category_type                                      unified_address          building_id  price_per_sq_m  house_price_sqm_median\n",
       "100303  801981697508642560  2016-06-20T00:00:00+03:00  2016-06-29T00:00:00+03:00     12000.0      6      False      5   False  156.0          23.0         16.0       50.0        11.0           2              2  Россия, Санкт-Петербург, Большая Зеленина улица, 12  7137635118733633172       76.923077               76.923077"
      ]
     },
     "execution_count": 55,
     "metadata": {},
     "output_type": "execute_result"
    }
   ],
   "source": [
    "# clean outliers\n",
    "rent_df_cleaned = rent_df_cleaned[~((rent_df_cleaned.price_per_sq_m < 250) \n",
    "                               & (rent_df_cleaned.house_price_sqm_median/rent_df_cleaned.price_per_sq_m >= 2))]\n",
    "\n",
    "# there are cases where houses had just one offer and house median equals offer's price per square meter\n",
    "# let's remove these outliers\n",
    "rent_df_cleaned_spb = rent_df_cleaned[~((rent_df_cleaned.price_per_sq_m < 200) \n",
    "                                          & (rent_df_cleaned.price_per_sq_m == rent_df_cleaned.house_price_sqm_median))]\n",
    "# look at the cheapest apartment\n",
    "cheapest_offer = rent_df_cleaned[rent_df_cleaned.price_per_sq_m == rent_df_cleaned.price_per_sq_m.min()]\n",
    "cheapest_offer"
   ]
  },
  {
   "cell_type": "code",
   "execution_count": 56,
   "metadata": {},
   "outputs": [
    {
     "data": {
      "text/plain": [
       "((156054, 19), (197792, 19))"
      ]
     },
     "execution_count": 56,
     "metadata": {},
     "output_type": "execute_result"
    }
   ],
   "source": [
    "rent_df_merged.shape, sell_df_merged.shape"
   ]
  },
  {
   "cell_type": "code",
   "execution_count": 57,
   "metadata": {},
   "outputs": [
    {
     "name": "stdout",
     "output_type": "stream",
     "text": [
      "Median price per sq m in St. Petersburg for sale: 102209\n",
      "Mean price per sq m in St. Petersburg for sale: 111955\n"
     ]
    }
   ],
   "source": [
    "median_price_per_sq_m_sell_cleaned = int(sell_df_cleaned.price_per_sq_m.median())\n",
    "mean_price_per_sq_m_sell_cleaned = int(sell_df_cleaned.price_per_sq_m.mean())\n",
    "print(\"Median price per sq m in St. Petersburg for sale: {}\".format(median_price_per_sq_m_sell_cleaned))\n",
    "print(\"Mean price per sq m in St. Petersburg for sale: {}\".format(mean_price_per_sq_m_sell_cleaned))"
   ]
  },
  {
   "cell_type": "code",
   "execution_count": 58,
   "metadata": {},
   "outputs": [
    {
     "name": "stdout",
     "output_type": "stream",
     "text": [
      "Number of cheap outliers 2x cheaper: 0\n"
     ]
    }
   ],
   "source": [
    "outliers = sell_df_cleaned[(sell_df_cleaned.price_per_sq_m < 250) \n",
    "                               & (sell_df_cleaned.house_price_sqm_median/sell_df_cleaned.price_per_sq_m >= 2)]\n",
    "print(\"Number of cheap outliers 2x cheaper: {}\".format(len(outliers)))"
   ]
  },
  {
   "cell_type": "code",
   "execution_count": 60,
   "metadata": {},
   "outputs": [
    {
     "data": {
      "text/html": [
       "<div>\n",
       "<style scoped>\n",
       "    .dataframe tbody tr th:only-of-type {\n",
       "        vertical-align: middle;\n",
       "    }\n",
       "\n",
       "    .dataframe tbody tr th {\n",
       "        vertical-align: top;\n",
       "    }\n",
       "\n",
       "    .dataframe thead th {\n",
       "        text-align: right;\n",
       "    }\n",
       "</style>\n",
       "<table border=\"1\" class=\"dataframe\">\n",
       "  <thead>\n",
       "    <tr style=\"text-align: right;\">\n",
       "      <th></th>\n",
       "      <th>offer_id</th>\n",
       "      <th>first_day_exposition</th>\n",
       "      <th>last_day_exposition</th>\n",
       "      <th>last_price</th>\n",
       "      <th>floor</th>\n",
       "      <th>open_plan</th>\n",
       "      <th>rooms</th>\n",
       "      <th>studio</th>\n",
       "      <th>area</th>\n",
       "      <th>kitchen_area</th>\n",
       "      <th>living_area</th>\n",
       "      <th>agent_fee</th>\n",
       "      <th>renovation</th>\n",
       "      <th>offer_type</th>\n",
       "      <th>category_type</th>\n",
       "      <th>unified_address</th>\n",
       "      <th>building_id</th>\n",
       "      <th>price_per_sq_m</th>\n",
       "      <th>house_price_sqm_median</th>\n",
       "    </tr>\n",
       "  </thead>\n",
       "  <tbody>\n",
       "    <tr>\n",
       "      <th>192709</th>\n",
       "      <td>2922093125162048769</td>\n",
       "      <td>2018-02-09T00:00:00+03:00</td>\n",
       "      <td>2018-02-20T00:00:00+03:00</td>\n",
       "      <td>1250000.0</td>\n",
       "      <td>3</td>\n",
       "      <td>False</td>\n",
       "      <td>7</td>\n",
       "      <td>False</td>\n",
       "      <td>250.0</td>\n",
       "      <td>13.0</td>\n",
       "      <td>18.0</td>\n",
       "      <td>NaN</td>\n",
       "      <td>3.0</td>\n",
       "      <td>1</td>\n",
       "      <td>2</td>\n",
       "      <td>Россия, Санкт-Петербург, Конторская улица, 16</td>\n",
       "      <td>6072468226709963670</td>\n",
       "      <td>5000.0</td>\n",
       "      <td>5000.0</td>\n",
       "    </tr>\n",
       "  </tbody>\n",
       "</table>\n",
       "</div>"
      ],
      "text/plain": [
       "                   offer_id       first_day_exposition        last_day_exposition  last_price  floor  open_plan  rooms  studio   area  kitchen_area  living_area  agent_fee  renovation  offer_type  category_type                                unified_address          building_id  price_per_sq_m  house_price_sqm_median\n",
       "192709  2922093125162048769  2018-02-09T00:00:00+03:00  2018-02-20T00:00:00+03:00   1250000.0      3      False      7   False  250.0          13.0         18.0        NaN         3.0           1              2  Россия, Санкт-Петербург, Конторская улица, 16  6072468226709963670          5000.0                  5000.0"
      ]
     },
     "execution_count": 60,
     "metadata": {},
     "output_type": "execute_result"
    }
   ],
   "source": [
    "# clean outliers\n",
    "sell_df_cleaned = sell_df_cleaned[~((sell_df_cleaned.price_per_sq_m < 45000) \n",
    "                               & (sell_df_cleaned.house_price_sqm_median/sell_df_cleaned.price_per_sq_m >= 3))]\n",
    "\n",
    "# there are cases where houses had just one offer and house median equals offer's price per square meter\n",
    "# let's remove these outliers\n",
    "sell_df_cleaned_spb = sell_df_cleaned[~((sell_df_cleaned.price_per_sq_m < 45000) \n",
    "                                          & (sell_df_cleaned.price_per_sq_m == sell_df_cleaned.house_price_sqm_median))]\n",
    "# look at the cheapest apartment\n",
    "cheapest_offer = sell_df_cleaned[sell_df_cleaned.price_per_sq_m == sell_df_cleaned.price_per_sq_m.min()]\n",
    "cheapest_offer"
   ]
  },
  {
   "cell_type": "markdown",
   "metadata": {},
   "source": [
    "### AFTER CLEANING"
   ]
  },
  {
   "cell_type": "code",
   "execution_count": 62,
   "metadata": {},
   "outputs": [
    {
     "data": {
      "text/plain": [
       "<AxesSubplot:>"
      ]
     },
     "execution_count": 62,
     "metadata": {},
     "output_type": "execute_result"
    },
    {
     "data": {
      "image/png": "[encoded data removed]",
      "text/plain": [
       "<Figure size 576x288 with 2 Axes>"
      ]
     },
     "metadata": {},
     "output_type": "display_data"
    }
   ],
   "source": [
    "sns.heatmap(rent_df_cleaned[['area','kitchen_area','living_area','last_price','rooms']].corr())"
   ]
  },
  {
   "cell_type": "code",
   "execution_count": 63,
   "metadata": {},
   "outputs": [
    {
     "data": {
      "text/plain": [
       "<AxesSubplot:>"
      ]
     },
     "execution_count": 63,
     "metadata": {},
     "output_type": "execute_result"
    },
    {
     "data": {
      "image/png": "[encoded data removed]",
      "text/plain": [
       "<Figure size 576x288 with 2 Axes>"
      ]
     },
     "metadata": {},
     "output_type": "display_data"
    }
   ],
   "source": [
    "sns.heatmap(sell_df_cleaned[['area','kitchen_area','living_area','last_price','rooms']].corr())"
   ]
  },
  {
   "cell_type": "code",
   "execution_count": 64,
   "metadata": {},
   "outputs": [],
   "source": [
    "rent_df_cleaned.first_day_exposition = pd.to_datetime(rent_df_cleaned.first_day_exposition)\n",
    "rent_df_cleaned.last_day_exposition = pd.to_datetime(rent_df_cleaned.last_day_exposition)\n",
    "rent_df_cleaned['expo_duration'] = (rent_df_cleaned['last_day_exposition'] - rent_df_cleaned['first_day_exposition']).dt.days\n",
    "\n",
    "sell_df_cleaned.first_day_exposition = pd.to_datetime(sell_df_cleaned.first_day_exposition)\n",
    "sell_df_cleaned.last_day_exposition = pd.to_datetime(sell_df_cleaned.last_day_exposition)\n",
    "sell_df_cleaned['expo_duration'] = (sell_df_cleaned['last_day_exposition'] - sell_df_cleaned['first_day_exposition']).dt.days"
   ]
  },
  {
   "cell_type": "code",
   "execution_count": 65,
   "metadata": {},
   "outputs": [
    {
     "data": {
      "text/plain": [
       "45     2970\n",
       "60     2764\n",
       "7      1675\n",
       "5      1534\n",
       "30     1371\n",
       "6      1324\n",
       "3      1269\n",
       "90     1198\n",
       "18     1119\n",
       "4      1046\n",
       "188    1043\n",
       "9      1039\n",
       "10      976\n",
       "28      913\n",
       "59      895\n",
       "15      894\n",
       "382     886\n",
       "27      858\n",
       "13      842\n",
       "14      836\n",
       "Name: expo_duration, dtype: int64"
      ]
     },
     "execution_count": 65,
     "metadata": {},
     "output_type": "execute_result"
    }
   ],
   "source": [
    "sell_df_cleaned.expo_duration.value_counts().nlargest(20)"
   ]
  },
  {
   "cell_type": "code",
   "execution_count": 66,
   "metadata": {},
   "outputs": [
    {
     "data": {
      "image/png": "[encoded data removed]",
      "text/plain": [
       "<Figure size 1440x360 with 1 Axes>"
      ]
     },
     "metadata": {},
     "output_type": "display_data"
    }
   ],
   "source": [
    "sells = sell_df_cleaned.expo_duration.value_counts().nlargest(20)\n",
    "plt.figure(figsize=(20,5))\n",
    "ax = sns.barplot(x=sells.index, y=sells, order=sells.index)\n",
    "plt.yticks([])\n",
    "plt.xticks(rotation=70)\n",
    "ax.bar_label(ax.containers[0])\n",
    "plt.ylabel('N of offers for sale')\n",
    "plt.xlabel('Expo_duration, days')\n",
    "plt.show()"
   ]
  },
  {
   "cell_type": "code",
   "execution_count": 67,
   "metadata": {},
   "outputs": [
    {
     "data": {
      "image/png": "[encoded data removed]",
      "text/plain": [
       "<Figure size 1440x360 with 1 Axes>"
      ]
     },
     "metadata": {},
     "output_type": "display_data"
    }
   ],
   "source": [
    "rents = rent_df_cleaned.expo_duration.value_counts().nlargest(20)\n",
    "plt.figure(figsize=(20,5))\n",
    "ax = sns.barplot(x=rents.index, y=rents, order=rents.index)\n",
    "plt.yticks([])\n",
    "plt.xticks(rotation=70)\n",
    "ax.bar_label(ax.containers[0])\n",
    "plt.ylabel('N of rent offers')\n",
    "plt.xlabel('Expo_duration, days')\n",
    "plt.show()"
   ]
  },
  {
   "cell_type": "markdown",
   "metadata": {},
   "source": [
    "#### Let's look at the most expensive and cheapest apartments `in rent` and `for sale` without Leningrad Oblast"
   ]
  },
  {
   "cell_type": "code",
   "execution_count": 68,
   "metadata": {},
   "outputs": [],
   "source": [
    "max_price_rent_cleaned = int(rent_df_cleaned.last_price.max())\n",
    "min_price_rent_cleaned = int(rent_df_cleaned.last_price.min())\n",
    "\n",
    "max_price_sell_cleaned = int(sell_df_cleaned.last_price.max())\n",
    "min_price_sell_cleaned = int(sell_df_cleaned.last_price.min())\n",
    "\n",
    "data1_rent = [[max_price_rent, min_price_rent, max_price_rent_cleaned, min_price_rent_cleaned]]\n",
    "data1_sell = [[max_price_sell, min_price_sell, max_price_sell_cleaned, min_price_sell_cleaned]]\n",
    "\n",
    "df_exp_ch_rent = pd.DataFrame(data1_rent, columns=['Max price in rent-Raw', 'Min price in rent-Raw', 'Max price in rent-Clean', 'Min price in rent-Clean'])\n",
    "df_exp_ch_sell = pd.DataFrame(data1_sell, columns=['Max price for sale-Raw', 'Min price for sale-Raw', 'Max price for sale-Clean', 'Min price for sale-Clean'])"
   ]
  },
  {
   "cell_type": "code",
   "execution_count": 69,
   "metadata": {},
   "outputs": [
    {
     "data": {
      "text/html": [
       "<div>\n",
       "<style scoped>\n",
       "    .dataframe tbody tr th:only-of-type {\n",
       "        vertical-align: middle;\n",
       "    }\n",
       "\n",
       "    .dataframe tbody tr th {\n",
       "        vertical-align: top;\n",
       "    }\n",
       "\n",
       "    .dataframe thead th {\n",
       "        text-align: right;\n",
       "    }\n",
       "</style>\n",
       "<table border=\"1\" class=\"dataframe\">\n",
       "  <thead>\n",
       "    <tr style=\"text-align: right;\">\n",
       "      <th></th>\n",
       "      <th>Max price in rent-Raw</th>\n",
       "      <th>Min price in rent-Raw</th>\n",
       "      <th>Max price in rent-Clean</th>\n",
       "      <th>Min price in rent-Clean</th>\n",
       "    </tr>\n",
       "  </thead>\n",
       "  <tbody>\n",
       "    <tr>\n",
       "      <th>0</th>\n",
       "      <td>4900000</td>\n",
       "      <td>130</td>\n",
       "      <td>360000</td>\n",
       "      <td>9990</td>\n",
       "    </tr>\n",
       "  </tbody>\n",
       "</table>\n",
       "</div>"
      ],
      "text/plain": [
       "   Max price in rent-Raw  Min price in rent-Raw  Max price in rent-Clean  Min price in rent-Clean\n",
       "0                4900000                    130                   360000                     9990"
      ]
     },
     "execution_count": 69,
     "metadata": {},
     "output_type": "execute_result"
    }
   ],
   "source": [
    "df_exp_ch_rent"
   ]
  },
  {
   "cell_type": "code",
   "execution_count": 70,
   "metadata": {},
   "outputs": [
    {
     "data": {
      "text/html": [
       "<div>\n",
       "<style scoped>\n",
       "    .dataframe tbody tr th:only-of-type {\n",
       "        vertical-align: middle;\n",
       "    }\n",
       "\n",
       "    .dataframe tbody tr th {\n",
       "        vertical-align: top;\n",
       "    }\n",
       "\n",
       "    .dataframe thead th {\n",
       "        text-align: right;\n",
       "    }\n",
       "</style>\n",
       "<table border=\"1\" class=\"dataframe\">\n",
       "  <thead>\n",
       "    <tr style=\"text-align: right;\">\n",
       "      <th></th>\n",
       "      <th>Max price for sale-Raw</th>\n",
       "      <th>Min price for sale-Raw</th>\n",
       "      <th>Max price for sale-Clean</th>\n",
       "      <th>Min price for sale-Clean</th>\n",
       "    </tr>\n",
       "  </thead>\n",
       "  <tbody>\n",
       "    <tr>\n",
       "      <th>0</th>\n",
       "      <td>763000000</td>\n",
       "      <td>19000</td>\n",
       "      <td>103040000</td>\n",
       "      <td>1000000</td>\n",
       "    </tr>\n",
       "  </tbody>\n",
       "</table>\n",
       "</div>"
      ],
      "text/plain": [
       "   Max price for sale-Raw  Min price for sale-Raw  Max price for sale-Clean  Min price for sale-Clean\n",
       "0               763000000                   19000                 103040000                   1000000"
      ]
     },
     "execution_count": 70,
     "metadata": {},
     "output_type": "execute_result"
    }
   ],
   "source": [
    "df_exp_ch_sell"
   ]
  },
  {
   "cell_type": "markdown",
   "metadata": {},
   "source": [
    "#### Calculate price per square meter, get median prices for house and find outliers `for rent` and `for sale`"
   ]
  },
  {
   "cell_type": "code",
   "execution_count": 71,
   "metadata": {},
   "outputs": [
    {
     "name": "stderr",
     "output_type": "stream",
     "text": [
      "/tmp/ipykernel_499/1144733046.py:1: SettingWithCopyWarning: \n",
      "A value is trying to be set on a copy of a slice from a DataFrame.\n",
      "Try using .loc[row_indexer,col_indexer] = value instead\n",
      "\n",
      "See the caveats in the documentation: https://pandas.pydata.org/pandas-docs/stable/user_guide/indexing.html#returning-a-view-versus-a-copy\n",
      "  rent_df_spb['price_per_sq_m'] = rent_df_spb.last_price/rent_df_spb.area\n",
      "/tmp/ipykernel_499/1144733046.py:2: SettingWithCopyWarning: \n",
      "A value is trying to be set on a copy of a slice from a DataFrame.\n",
      "Try using .loc[row_indexer,col_indexer] = value instead\n",
      "\n",
      "See the caveats in the documentation: https://pandas.pydata.org/pandas-docs/stable/user_guide/indexing.html#returning-a-view-versus-a-copy\n",
      "  sell_df_spb['price_per_sq_m'] = sell_df_spb.last_price/sell_df_spb.area\n"
     ]
    }
   ],
   "source": [
    "rent_df_spb['price_per_sq_m'] = rent_df_spb.last_price/rent_df_spb.area\n",
    "sell_df_spb['price_per_sq_m'] = sell_df_spb.last_price/sell_df_spb.area\n",
    "\n",
    "median_price_per_sq_m = int(rent_df_spb.price_per_sq_m.median())\n",
    "mean_price_per_sq_m = int(rent_df_spb.price_per_sq_m.mean())\n",
    "\n",
    "median_price_per_sq_m = int(sell_df_spb.price_per_sq_m.median())\n",
    "mean_price_per_sq_m = int(sell_df_spb.price_per_sq_m.mean())\n",
    "\n",
    "rent_df_cleaned['price_per_sq_m'] = rent_df_cleaned.last_price/rent_df_cleaned.area\n",
    "sell_df_cleaned['price_per_sq_m'] = sell_df_cleaned.last_price/sell_df_cleaned.area\n",
    "\n",
    "median_price_per_sq_m_rent_cleaned = int(rent_df_cleaned.price_per_sq_m.median())\n",
    "mean_price_per_sq_m_rent_cleaned = int(rent_df_cleaned.price_per_sq_m.mean())\n",
    "\n",
    "median_price_per_sq_m_sell_cleaned = int(sell_df_cleaned.price_per_sq_m.median())\n",
    "mean_price_per_sq_m_sell_cleaned = int(sell_df_cleaned.price_per_sq_m.mean())\n",
    "\n",
    "data2_rent = [[median_price_per_sq_m_rent, mean_price_per_sq_m_rent, median_price_per_sq_m_rent_cleaned, mean_price_per_sq_m_rent_cleaned]]\n",
    "data2_sell = [[median_price_per_sq_m_sell, mean_price_per_sq_m_sell, median_price_per_sq_m_sell_cleaned, mean_price_per_sq_m_sell_cleaned]]\n",
    "\n",
    "df_avg_rent = pd.DataFrame(data2_rent, columns=['Median price per sq m in rent-Raw', 'Mean price per sq m in rent-Raw', 'Median price per sq m in rent-Clean', 'Mean price per sq m in rent-Clean'])\n",
    "df_avg_sell = pd.DataFrame(data2_sell, columns=['Median price per sq m for sale-Raw', 'Mean price per sq m for sale-Raw', 'Median price per sq m for sale-Clean', 'Mean price per sq m for sale-Clean'])"
   ]
  },
  {
   "cell_type": "code",
   "execution_count": 72,
   "metadata": {},
   "outputs": [
    {
     "data": {
      "text/html": [
       "<div>\n",
       "<style scoped>\n",
       "    .dataframe tbody tr th:only-of-type {\n",
       "        vertical-align: middle;\n",
       "    }\n",
       "\n",
       "    .dataframe tbody tr th {\n",
       "        vertical-align: top;\n",
       "    }\n",
       "\n",
       "    .dataframe thead th {\n",
       "        text-align: right;\n",
       "    }\n",
       "</style>\n",
       "<table border=\"1\" class=\"dataframe\">\n",
       "  <thead>\n",
       "    <tr style=\"text-align: right;\">\n",
       "      <th></th>\n",
       "      <th>Median price per sq m in rent-Raw</th>\n",
       "      <th>Mean price per sq m in rent-Raw</th>\n",
       "      <th>Median price per sq m in rent-Clean</th>\n",
       "      <th>Mean price per sq m in rent-Clean</th>\n",
       "    </tr>\n",
       "  </thead>\n",
       "  <tbody>\n",
       "    <tr>\n",
       "      <th>0</th>\n",
       "      <td>555</td>\n",
       "      <td>610</td>\n",
       "      <td>555</td>\n",
       "      <td>600</td>\n",
       "    </tr>\n",
       "  </tbody>\n",
       "</table>\n",
       "</div>"
      ],
      "text/plain": [
       "   Median price per sq m in rent-Raw  Mean price per sq m in rent-Raw  Median price per sq m in rent-Clean  Mean price per sq m in rent-Clean\n",
       "0                                555                              610                                  555                                600"
      ]
     },
     "execution_count": 72,
     "metadata": {},
     "output_type": "execute_result"
    }
   ],
   "source": [
    "df_avg_rent"
   ]
  },
  {
   "cell_type": "code",
   "execution_count": 73,
   "metadata": {},
   "outputs": [
    {
     "data": {
      "text/html": [
       "<div>\n",
       "<style scoped>\n",
       "    .dataframe tbody tr th:only-of-type {\n",
       "        vertical-align: middle;\n",
       "    }\n",
       "\n",
       "    .dataframe tbody tr th {\n",
       "        vertical-align: top;\n",
       "    }\n",
       "\n",
       "    .dataframe thead th {\n",
       "        text-align: right;\n",
       "    }\n",
       "</style>\n",
       "<table border=\"1\" class=\"dataframe\">\n",
       "  <thead>\n",
       "    <tr style=\"text-align: right;\">\n",
       "      <th></th>\n",
       "      <th>Median price per sq m for sale-Raw</th>\n",
       "      <th>Mean price per sq m for sale-Raw</th>\n",
       "      <th>Median price per sq m for sale-Clean</th>\n",
       "      <th>Mean price per sq m for sale-Clean</th>\n",
       "    </tr>\n",
       "  </thead>\n",
       "  <tbody>\n",
       "    <tr>\n",
       "      <th>0</th>\n",
       "      <td>102285</td>\n",
       "      <td>113645</td>\n",
       "      <td>102229</td>\n",
       "      <td>112054</td>\n",
       "    </tr>\n",
       "  </tbody>\n",
       "</table>\n",
       "</div>"
      ],
      "text/plain": [
       "   Median price per sq m for sale-Raw  Mean price per sq m for sale-Raw  Median price per sq m for sale-Clean  Mean price per sq m for sale-Clean\n",
       "0                              102285                            113645                                102229                              112054"
      ]
     },
     "execution_count": 73,
     "metadata": {},
     "output_type": "execute_result"
    }
   ],
   "source": [
    "df_avg_sell"
   ]
  },
  {
   "cell_type": "markdown",
   "metadata": {},
   "source": [
    "#### Find median price per sq m per house `for rent` and `for sale`"
   ]
  },
  {
   "cell_type": "code",
   "execution_count": 74,
   "metadata": {},
   "outputs": [],
   "source": [
    "house_rent_df_cleaned = rent_df_cleaned.groupby('unified_address').price_per_sq_m.median().reset_index()\n",
    "house_sell_df_cleaned = sell_df_cleaned.groupby('unified_address').price_per_sq_m.median().reset_index()\n",
    "\n",
    "house_rent_df_cleaned.rename(columns = {'price_per_sq_m': 'house_price_sqm_median_rent'}, inplace = True)\n",
    "house_sell_df_cleaned.rename(columns = {'price_per_sq_m': 'house_price_sqm_median_sell'}, inplace = True)"
   ]
  },
  {
   "cell_type": "code",
   "execution_count": 75,
   "metadata": {},
   "outputs": [],
   "source": [
    "#house_rent_df_cleaned"
   ]
  },
  {
   "cell_type": "markdown",
   "metadata": {},
   "source": [
    "#### Find the most cheapest house `for rent` and `for sale`"
   ]
  },
  {
   "cell_type": "code",
   "execution_count": 76,
   "metadata": {},
   "outputs": [
    {
     "data": {
      "text/html": [
       "<div>\n",
       "<style scoped>\n",
       "    .dataframe tbody tr th:only-of-type {\n",
       "        vertical-align: middle;\n",
       "    }\n",
       "\n",
       "    .dataframe tbody tr th {\n",
       "        vertical-align: top;\n",
       "    }\n",
       "\n",
       "    .dataframe thead th {\n",
       "        text-align: right;\n",
       "    }\n",
       "</style>\n",
       "<table border=\"1\" class=\"dataframe\">\n",
       "  <thead>\n",
       "    <tr style=\"text-align: right;\">\n",
       "      <th></th>\n",
       "      <th>unified_address</th>\n",
       "      <th>house_price_sqm_median_rent</th>\n",
       "    </tr>\n",
       "  </thead>\n",
       "  <tbody>\n",
       "    <tr>\n",
       "      <th>1474</th>\n",
       "      <td>Россия, Санкт-Петербург, Большая Зеленина улица, 12</td>\n",
       "      <td>76.923077</td>\n",
       "    </tr>\n",
       "  </tbody>\n",
       "</table>\n",
       "</div>"
      ],
      "text/plain": [
       "                                          unified_address  house_price_sqm_median_rent\n",
       "1474  Россия, Санкт-Петербург, Большая Зеленина улица, 12                    76.923077"
      ]
     },
     "execution_count": 76,
     "metadata": {},
     "output_type": "execute_result"
    }
   ],
   "source": [
    "most_cheapest_house_rent = house_rent_df_cleaned[house_rent_df_cleaned.house_price_sqm_median_rent == house_rent_df_cleaned.house_price_sqm_median_rent.min()]\n",
    "most_cheapest_house_rent"
   ]
  },
  {
   "cell_type": "code",
   "execution_count": 77,
   "metadata": {},
   "outputs": [
    {
     "data": {
      "text/html": [
       "<div>\n",
       "<style scoped>\n",
       "    .dataframe tbody tr th:only-of-type {\n",
       "        vertical-align: middle;\n",
       "    }\n",
       "\n",
       "    .dataframe tbody tr th {\n",
       "        vertical-align: top;\n",
       "    }\n",
       "\n",
       "    .dataframe thead th {\n",
       "        text-align: right;\n",
       "    }\n",
       "</style>\n",
       "<table border=\"1\" class=\"dataframe\">\n",
       "  <thead>\n",
       "    <tr style=\"text-align: right;\">\n",
       "      <th></th>\n",
       "      <th>unified_address</th>\n",
       "      <th>house_price_sqm_median_sell</th>\n",
       "    </tr>\n",
       "  </thead>\n",
       "  <tbody>\n",
       "    <tr>\n",
       "      <th>5960</th>\n",
       "      <td>Россия, Санкт-Петербург, Конторская улица, 16</td>\n",
       "      <td>5000.0</td>\n",
       "    </tr>\n",
       "  </tbody>\n",
       "</table>\n",
       "</div>"
      ],
      "text/plain": [
       "                                    unified_address  house_price_sqm_median_sell\n",
       "5960  Россия, Санкт-Петербург, Конторская улица, 16                       5000.0"
      ]
     },
     "execution_count": 77,
     "metadata": {},
     "output_type": "execute_result"
    }
   ],
   "source": [
    "most_cheapest_house_sell = house_sell_df_cleaned[house_sell_df_cleaned.house_price_sqm_median_sell == house_sell_df_cleaned.house_price_sqm_median_sell.min()]\n",
    "most_cheapest_house_sell"
   ]
  },
  {
   "cell_type": "markdown",
   "metadata": {},
   "source": [
    "#### Analyze how many offers have the commission `for rent` and `for sale` "
   ]
  },
  {
   "cell_type": "code",
   "execution_count": 78,
   "metadata": {},
   "outputs": [
    {
     "data": {
      "text/plain": [
       "100.000000    0.328070\n",
       "50.000000     0.293406\n",
       "NaN           0.209366\n",
       "0.000000      0.035370\n",
       "90.000000     0.034542\n",
       "                ...   \n",
       "14.000000     0.000006\n",
       "11.000000     0.000006\n",
       "17.000000     0.000006\n",
       "92.000000     0.000006\n",
       "64.997665     0.000006\n",
       "Name: agent_fee, Length: 102, dtype: float64"
      ]
     },
     "execution_count": 78,
     "metadata": {},
     "output_type": "execute_result"
    }
   ],
   "source": [
    "rent_df_cleaned.agent_fee.value_counts(normalize=True, dropna=False)"
   ]
  },
  {
   "cell_type": "markdown",
   "metadata": {},
   "source": [
    "We see that the most popular commission is 100% - 33% of offers. 21% of offers don't have any information about commission."
   ]
  },
  {
   "cell_type": "code",
   "execution_count": 79,
   "metadata": {},
   "outputs": [
    {
     "data": {
      "text/plain": [
       "NaN           0.933603\n",
       "0.000000      0.048884\n",
       "100.000000    0.012877\n",
       "1.000000      0.001391\n",
       "1.800000      0.000706\n",
       "2.000000      0.000614\n",
       "2.500000      0.000279\n",
       "50.000000     0.000223\n",
       "4.000000      0.000198\n",
       "3.000000      0.000178\n",
       "2.700000      0.000168\n",
       "2.400000      0.000142\n",
       "1.500000      0.000117\n",
       "3.500000      0.000086\n",
       "10.000000     0.000086\n",
       "5.000000      0.000066\n",
       "2.800000      0.000051\n",
       "2.200000      0.000046\n",
       "4.200000      0.000046\n",
       "2.450000      0.000041\n",
       "1.400000      0.000030\n",
       "40.000000     0.000025\n",
       "20.000000     0.000025\n",
       "30.000000     0.000020\n",
       "15.000000     0.000015\n",
       "1.050000      0.000010\n",
       "6.000000      0.000010\n",
       "25.000000     0.000005\n",
       "48.387096     0.000005\n",
       "68.259390     0.000005\n",
       "30.303032     0.000005\n",
       "17.000000     0.000005\n",
       "1.440922      0.000005\n",
       "90.909096     0.000005\n",
       "27.777779     0.000005\n",
       "90.000000     0.000005\n",
       "0.027027      0.000005\n",
       "1.250000      0.000005\n",
       "74.074070     0.000005\n",
       "Name: agent_fee, dtype: float64"
      ]
     },
     "execution_count": 79,
     "metadata": {},
     "output_type": "execute_result"
    }
   ],
   "source": [
    "sell_df_cleaned.agent_fee.value_counts(normalize=True, dropna=False)"
   ]
  },
  {
   "cell_type": "markdown",
   "metadata": {},
   "source": [
    "93% of offers don't have any information about commission. 4% of offers state that there is no commission"
   ]
  },
  {
   "cell_type": "markdown",
   "metadata": {},
   "source": [
    "#### Calculate how many years does it take to cover all money spent on buying apartment by renting it. Find houses in which it's the most effective to invest in buying if you plan to rent and houses in which it will be the most ineffective."
   ]
  },
  {
   "cell_type": "markdown",
   "metadata": {},
   "source": [
    "#### For price_per_sq_m"
   ]
  },
  {
   "cell_type": "code",
   "execution_count": 92,
   "metadata": {},
   "outputs": [
    {
     "data": {
      "text/html": [
       "<div>\n",
       "<style scoped>\n",
       "    .dataframe tbody tr th:only-of-type {\n",
       "        vertical-align: middle;\n",
       "    }\n",
       "\n",
       "    .dataframe tbody tr th {\n",
       "        vertical-align: top;\n",
       "    }\n",
       "\n",
       "    .dataframe thead th {\n",
       "        text-align: right;\n",
       "    }\n",
       "</style>\n",
       "<table border=\"1\" class=\"dataframe\">\n",
       "  <thead>\n",
       "    <tr style=\"text-align: right;\">\n",
       "      <th></th>\n",
       "      <th>building_id</th>\n",
       "      <th>rent_count_flats</th>\n",
       "      <th>rent_price_per_sq_m_median</th>\n",
       "    </tr>\n",
       "  </thead>\n",
       "  <tbody>\n",
       "    <tr>\n",
       "      <th>0</th>\n",
       "      <td>458573008430269</td>\n",
       "      <td>2</td>\n",
       "      <td>662.020906</td>\n",
       "    </tr>\n",
       "    <tr>\n",
       "      <th>1</th>\n",
       "      <td>1785805724177444</td>\n",
       "      <td>1</td>\n",
       "      <td>600.000000</td>\n",
       "    </tr>\n",
       "    <tr>\n",
       "      <th>2</th>\n",
       "      <td>3286884802341379</td>\n",
       "      <td>1</td>\n",
       "      <td>473.684211</td>\n",
       "    </tr>\n",
       "    <tr>\n",
       "      <th>3</th>\n",
       "      <td>3603962364551559</td>\n",
       "      <td>18</td>\n",
       "      <td>500.000000</td>\n",
       "    </tr>\n",
       "    <tr>\n",
       "      <th>4</th>\n",
       "      <td>3603962364551560</td>\n",
       "      <td>1</td>\n",
       "      <td>434.782609</td>\n",
       "    </tr>\n",
       "    <tr>\n",
       "      <th>...</th>\n",
       "      <td>...</td>\n",
       "      <td>...</td>\n",
       "      <td>...</td>\n",
       "    </tr>\n",
       "    <tr>\n",
       "      <th>19844</th>\n",
       "      <td>9217640295586864077</td>\n",
       "      <td>7</td>\n",
       "      <td>916.666667</td>\n",
       "    </tr>\n",
       "    <tr>\n",
       "      <th>19845</th>\n",
       "      <td>9217640295587698130</td>\n",
       "      <td>1</td>\n",
       "      <td>1222.222222</td>\n",
       "    </tr>\n",
       "    <tr>\n",
       "      <th>19846</th>\n",
       "      <td>9217640295588649554</td>\n",
       "      <td>6</td>\n",
       "      <td>671.428571</td>\n",
       "    </tr>\n",
       "    <tr>\n",
       "      <th>19847</th>\n",
       "      <td>9218305025595159775</td>\n",
       "      <td>2</td>\n",
       "      <td>985.110803</td>\n",
       "    </tr>\n",
       "    <tr>\n",
       "      <th>19848</th>\n",
       "      <td>9220297187880756244</td>\n",
       "      <td>10</td>\n",
       "      <td>547.240260</td>\n",
       "    </tr>\n",
       "  </tbody>\n",
       "</table>\n",
       "<p>19849 rows × 3 columns</p>\n",
       "</div>"
      ],
      "text/plain": [
       "               building_id  rent_count_flats  rent_price_per_sq_m_median\n",
       "0          458573008430269                 2                  662.020906\n",
       "1         1785805724177444                 1                  600.000000\n",
       "2         3286884802341379                 1                  473.684211\n",
       "3         3603962364551559                18                  500.000000\n",
       "4         3603962364551560                 1                  434.782609\n",
       "...                    ...               ...                         ...\n",
       "19844  9217640295586864077                 7                  916.666667\n",
       "19845  9217640295587698130                 1                 1222.222222\n",
       "19846  9217640295588649554                 6                  671.428571\n",
       "19847  9218305025595159775                 2                  985.110803\n",
       "19848  9220297187880756244                10                  547.240260\n",
       "\n",
       "[19849 rows x 3 columns]"
      ]
     },
     "execution_count": 92,
     "metadata": {},
     "output_type": "execute_result"
    }
   ],
   "source": [
    "rent_df_cleaned_last = rent_df_cleaned.groupby('building_id').agg({'offer_id':'count', 'price_per_sq_m' : 'median'})\\\n",
    ".rename(columns={'offer_id' : 'rent_count_flats', 'price_per_sq_m' : 'rent_price_per_sq_m_median'}).reset_index()\n",
    "rent_df_cleaned_last"
   ]
  },
  {
   "cell_type": "code",
   "execution_count": 93,
   "metadata": {},
   "outputs": [
    {
     "data": {
      "text/html": [
       "<div>\n",
       "<style scoped>\n",
       "    .dataframe tbody tr th:only-of-type {\n",
       "        vertical-align: middle;\n",
       "    }\n",
       "\n",
       "    .dataframe tbody tr th {\n",
       "        vertical-align: top;\n",
       "    }\n",
       "\n",
       "    .dataframe thead th {\n",
       "        text-align: right;\n",
       "    }\n",
       "</style>\n",
       "<table border=\"1\" class=\"dataframe\">\n",
       "  <thead>\n",
       "    <tr style=\"text-align: right;\">\n",
       "      <th></th>\n",
       "      <th>building_id</th>\n",
       "      <th>sell_count_flats</th>\n",
       "      <th>sell_price_per_sq_m_median</th>\n",
       "    </tr>\n",
       "  </thead>\n",
       "  <tbody>\n",
       "    <tr>\n",
       "      <th>0</th>\n",
       "      <td>458573008430269</td>\n",
       "      <td>6</td>\n",
       "      <td>141157.760814</td>\n",
       "    </tr>\n",
       "    <tr>\n",
       "      <th>1</th>\n",
       "      <td>1785805724181110</td>\n",
       "      <td>1</td>\n",
       "      <td>93941.684665</td>\n",
       "    </tr>\n",
       "    <tr>\n",
       "      <th>2</th>\n",
       "      <td>3603962364551559</td>\n",
       "      <td>10</td>\n",
       "      <td>123231.911249</td>\n",
       "    </tr>\n",
       "    <tr>\n",
       "      <th>3</th>\n",
       "      <td>3603962364551561</td>\n",
       "      <td>8</td>\n",
       "      <td>98925.205181</td>\n",
       "    </tr>\n",
       "    <tr>\n",
       "      <th>4</th>\n",
       "      <td>3603962364553482</td>\n",
       "      <td>2</td>\n",
       "      <td>86649.659864</td>\n",
       "    </tr>\n",
       "    <tr>\n",
       "      <th>...</th>\n",
       "      <td>...</td>\n",
       "      <td>...</td>\n",
       "      <td>...</td>\n",
       "    </tr>\n",
       "    <tr>\n",
       "      <th>22931</th>\n",
       "      <td>9217640295586864077</td>\n",
       "      <td>4</td>\n",
       "      <td>121908.967391</td>\n",
       "    </tr>\n",
       "    <tr>\n",
       "      <th>22932</th>\n",
       "      <td>9217640295588649554</td>\n",
       "      <td>7</td>\n",
       "      <td>157096.424702</td>\n",
       "    </tr>\n",
       "    <tr>\n",
       "      <th>22933</th>\n",
       "      <td>9218305025595159777</td>\n",
       "      <td>1</td>\n",
       "      <td>210843.373494</td>\n",
       "    </tr>\n",
       "    <tr>\n",
       "      <th>22934</th>\n",
       "      <td>9219962699705661932</td>\n",
       "      <td>1</td>\n",
       "      <td>108333.333333</td>\n",
       "    </tr>\n",
       "    <tr>\n",
       "      <th>22935</th>\n",
       "      <td>9220297187880756244</td>\n",
       "      <td>6</td>\n",
       "      <td>104273.667815</td>\n",
       "    </tr>\n",
       "  </tbody>\n",
       "</table>\n",
       "<p>22936 rows × 3 columns</p>\n",
       "</div>"
      ],
      "text/plain": [
       "               building_id  sell_count_flats  sell_price_per_sq_m_median\n",
       "0          458573008430269                 6               141157.760814\n",
       "1         1785805724181110                 1                93941.684665\n",
       "2         3603962364551559                10               123231.911249\n",
       "3         3603962364551561                 8                98925.205181\n",
       "4         3603962364553482                 2                86649.659864\n",
       "...                    ...               ...                         ...\n",
       "22931  9217640295586864077                 4               121908.967391\n",
       "22932  9217640295588649554                 7               157096.424702\n",
       "22933  9218305025595159777                 1               210843.373494\n",
       "22934  9219962699705661932                 1               108333.333333\n",
       "22935  9220297187880756244                 6               104273.667815\n",
       "\n",
       "[22936 rows x 3 columns]"
      ]
     },
     "execution_count": 93,
     "metadata": {},
     "output_type": "execute_result"
    }
   ],
   "source": [
    "sell_df_cleaned_last = sell_df_cleaned.groupby('building_id').agg({'offer_id':'count', 'price_per_sq_m' : 'median'})\\\n",
    ".rename(columns={'offer_id' : 'sell_count_flats', 'price_per_sq_m' : 'sell_price_per_sq_m_median'}).reset_index()\n",
    "sell_df_cleaned_last"
   ]
  },
  {
   "cell_type": "code",
   "execution_count": 94,
   "metadata": {},
   "outputs": [
    {
     "data": {
      "text/html": [
       "<div>\n",
       "<style scoped>\n",
       "    .dataframe tbody tr th:only-of-type {\n",
       "        vertical-align: middle;\n",
       "    }\n",
       "\n",
       "    .dataframe tbody tr th {\n",
       "        vertical-align: top;\n",
       "    }\n",
       "\n",
       "    .dataframe thead th {\n",
       "        text-align: right;\n",
       "    }\n",
       "</style>\n",
       "<table border=\"1\" class=\"dataframe\">\n",
       "  <thead>\n",
       "    <tr style=\"text-align: right;\">\n",
       "      <th></th>\n",
       "      <th>building_id</th>\n",
       "      <th>sell_count_flats</th>\n",
       "      <th>sell_price_per_sq_m_median</th>\n",
       "      <th>rent_count_flats</th>\n",
       "      <th>rent_price_per_sq_m_median</th>\n",
       "      <th>months</th>\n",
       "    </tr>\n",
       "  </thead>\n",
       "  <tbody>\n",
       "    <tr>\n",
       "      <th>12497</th>\n",
       "      <td>5119652757321781568</td>\n",
       "      <td>1.0</td>\n",
       "      <td>13323.809524</td>\n",
       "      <td>5.0</td>\n",
       "      <td>537.037037</td>\n",
       "      <td>23</td>\n",
       "    </tr>\n",
       "    <tr>\n",
       "      <th>13999</th>\n",
       "      <td>5809952634093980953</td>\n",
       "      <td>1.0</td>\n",
       "      <td>18055.555556</td>\n",
       "      <td>6.0</td>\n",
       "      <td>462.962963</td>\n",
       "      <td>29</td>\n",
       "    </tr>\n",
       "    <tr>\n",
       "      <th>11578</th>\n",
       "      <td>4748912015298159096</td>\n",
       "      <td>16.0</td>\n",
       "      <td>94362.745098</td>\n",
       "      <td>17.0</td>\n",
       "      <td>486.486486</td>\n",
       "      <td>32</td>\n",
       "    </tr>\n",
       "    <tr>\n",
       "      <th>18955</th>\n",
       "      <td>7468624802346942191</td>\n",
       "      <td>2.0</td>\n",
       "      <td>73417.792793</td>\n",
       "      <td>2.0</td>\n",
       "      <td>482.558140</td>\n",
       "      <td>37</td>\n",
       "    </tr>\n",
       "    <tr>\n",
       "      <th>19595</th>\n",
       "      <td>7808530536558391553</td>\n",
       "      <td>1.0</td>\n",
       "      <td>37500.000000</td>\n",
       "      <td>1.0</td>\n",
       "      <td>320.000000</td>\n",
       "      <td>37</td>\n",
       "    </tr>\n",
       "    <tr>\n",
       "      <th>...</th>\n",
       "      <td>...</td>\n",
       "      <td>...</td>\n",
       "      <td>...</td>\n",
       "      <td>...</td>\n",
       "      <td>...</td>\n",
       "      <td>...</td>\n",
       "    </tr>\n",
       "    <tr>\n",
       "      <th>9681</th>\n",
       "      <td>3949170025052432380</td>\n",
       "      <td>4.0</td>\n",
       "      <td>498796.748458</td>\n",
       "      <td>3.0</td>\n",
       "      <td>1000.000000</td>\n",
       "      <td>1246</td>\n",
       "    </tr>\n",
       "    <tr>\n",
       "      <th>10794</th>\n",
       "      <td>4378677413263079878</td>\n",
       "      <td>6.0</td>\n",
       "      <td>548694.801775</td>\n",
       "      <td>2.0</td>\n",
       "      <td>1770.833333</td>\n",
       "      <td>1266</td>\n",
       "    </tr>\n",
       "    <tr>\n",
       "      <th>16118</th>\n",
       "      <td>6611791295188616970</td>\n",
       "      <td>1.0</td>\n",
       "      <td>518292.682927</td>\n",
       "      <td>3.0</td>\n",
       "      <td>2000.000000</td>\n",
       "      <td>1272</td>\n",
       "    </tr>\n",
       "    <tr>\n",
       "      <th>14392</th>\n",
       "      <td>5973191840232289745</td>\n",
       "      <td>2.0</td>\n",
       "      <td>764861.111111</td>\n",
       "      <td>6.0</td>\n",
       "      <td>628.685259</td>\n",
       "      <td>1459</td>\n",
       "    </tr>\n",
       "    <tr>\n",
       "      <th>2730</th>\n",
       "      <td>853468021940296985</td>\n",
       "      <td>1.0</td>\n",
       "      <td>544994.640943</td>\n",
       "      <td>6.0</td>\n",
       "      <td>1410.377358</td>\n",
       "      <td>1994</td>\n",
       "    </tr>\n",
       "  </tbody>\n",
       "</table>\n",
       "<p>14225 rows × 6 columns</p>\n",
       "</div>"
      ],
      "text/plain": [
       "               building_id  sell_count_flats  sell_price_per_sq_m_median  rent_count_flats  rent_price_per_sq_m_median  months\n",
       "12497  5119652757321781568               1.0                13323.809524               5.0                  537.037037      23\n",
       "13999  5809952634093980953               1.0                18055.555556               6.0                  462.962963      29\n",
       "11578  4748912015298159096              16.0                94362.745098              17.0                  486.486486      32\n",
       "18955  7468624802346942191               2.0                73417.792793               2.0                  482.558140      37\n",
       "19595  7808530536558391553               1.0                37500.000000               1.0                  320.000000      37\n",
       "...                    ...               ...                         ...               ...                         ...     ...\n",
       "9681   3949170025052432380               4.0               498796.748458               3.0                 1000.000000    1246\n",
       "10794  4378677413263079878               6.0               548694.801775               2.0                 1770.833333    1266\n",
       "16118  6611791295188616970               1.0               518292.682927               3.0                 2000.000000    1272\n",
       "14392  5973191840232289745               2.0               764861.111111               6.0                  628.685259    1459\n",
       "2730    853468021940296985               1.0               544994.640943               6.0                 1410.377358    1994\n",
       "\n",
       "[14225 rows x 6 columns]"
      ]
     },
     "execution_count": 94,
     "metadata": {},
     "output_type": "execute_result"
    }
   ],
   "source": [
    "full = sell_df_cleaned_last.merge(rent_df_cleaned_last, on = 'building_id', how = 'outer')\n",
    "full['months'] = sell_df_cleaned_last['sell_price_per_sq_m_median']\\\n",
    "/ rent_df_cleaned_last['rent_price_per_sq_m_median']\n",
    "full = full.sort_values(by='months')\n",
    "full = full.dropna()\n",
    "full.months = full.months.astype(int)\n",
    "full"
   ]
  },
  {
   "cell_type": "markdown",
   "metadata": {},
   "source": [
    "#### For last_price"
   ]
  },
  {
   "cell_type": "code",
   "execution_count": 95,
   "metadata": {},
   "outputs": [
    {
     "data": {
      "text/html": [
       "<div>\n",
       "<style scoped>\n",
       "    .dataframe tbody tr th:only-of-type {\n",
       "        vertical-align: middle;\n",
       "    }\n",
       "\n",
       "    .dataframe tbody tr th {\n",
       "        vertical-align: top;\n",
       "    }\n",
       "\n",
       "    .dataframe thead th {\n",
       "        text-align: right;\n",
       "    }\n",
       "</style>\n",
       "<table border=\"1\" class=\"dataframe\">\n",
       "  <thead>\n",
       "    <tr style=\"text-align: right;\">\n",
       "      <th></th>\n",
       "      <th>building_id</th>\n",
       "      <th>rent_count_flats</th>\n",
       "      <th>rent_last_price</th>\n",
       "    </tr>\n",
       "  </thead>\n",
       "  <tbody>\n",
       "    <tr>\n",
       "      <th>0</th>\n",
       "      <td>458573008430269</td>\n",
       "      <td>2</td>\n",
       "      <td>27500.0</td>\n",
       "    </tr>\n",
       "    <tr>\n",
       "      <th>1</th>\n",
       "      <td>1785805724177444</td>\n",
       "      <td>1</td>\n",
       "      <td>45000.0</td>\n",
       "    </tr>\n",
       "    <tr>\n",
       "      <th>2</th>\n",
       "      <td>3286884802341379</td>\n",
       "      <td>1</td>\n",
       "      <td>18000.0</td>\n",
       "    </tr>\n",
       "    <tr>\n",
       "      <th>3</th>\n",
       "      <td>3603962364551559</td>\n",
       "      <td>18</td>\n",
       "      <td>26500.0</td>\n",
       "    </tr>\n",
       "    <tr>\n",
       "      <th>4</th>\n",
       "      <td>3603962364551560</td>\n",
       "      <td>1</td>\n",
       "      <td>30000.0</td>\n",
       "    </tr>\n",
       "    <tr>\n",
       "      <th>...</th>\n",
       "      <td>...</td>\n",
       "      <td>...</td>\n",
       "      <td>...</td>\n",
       "    </tr>\n",
       "    <tr>\n",
       "      <th>19844</th>\n",
       "      <td>9217640295586864077</td>\n",
       "      <td>7</td>\n",
       "      <td>55000.0</td>\n",
       "    </tr>\n",
       "    <tr>\n",
       "      <th>19845</th>\n",
       "      <td>9217640295587698130</td>\n",
       "      <td>1</td>\n",
       "      <td>55000.0</td>\n",
       "    </tr>\n",
       "    <tr>\n",
       "      <th>19846</th>\n",
       "      <td>9217640295588649554</td>\n",
       "      <td>6</td>\n",
       "      <td>31500.0</td>\n",
       "    </tr>\n",
       "    <tr>\n",
       "      <th>19847</th>\n",
       "      <td>9218305025595159775</td>\n",
       "      <td>2</td>\n",
       "      <td>58000.0</td>\n",
       "    </tr>\n",
       "    <tr>\n",
       "      <th>19848</th>\n",
       "      <td>9220297187880756244</td>\n",
       "      <td>10</td>\n",
       "      <td>23000.0</td>\n",
       "    </tr>\n",
       "  </tbody>\n",
       "</table>\n",
       "<p>19849 rows × 3 columns</p>\n",
       "</div>"
      ],
      "text/plain": [
       "               building_id  rent_count_flats  rent_last_price\n",
       "0          458573008430269                 2          27500.0\n",
       "1         1785805724177444                 1          45000.0\n",
       "2         3286884802341379                 1          18000.0\n",
       "3         3603962364551559                18          26500.0\n",
       "4         3603962364551560                 1          30000.0\n",
       "...                    ...               ...              ...\n",
       "19844  9217640295586864077                 7          55000.0\n",
       "19845  9217640295587698130                 1          55000.0\n",
       "19846  9217640295588649554                 6          31500.0\n",
       "19847  9218305025595159775                 2          58000.0\n",
       "19848  9220297187880756244                10          23000.0\n",
       "\n",
       "[19849 rows x 3 columns]"
      ]
     },
     "execution_count": 95,
     "metadata": {},
     "output_type": "execute_result"
    }
   ],
   "source": [
    "rent_df_cleaned_last = rent_df_cleaned.groupby('building_id').agg({'offer_id':'count', 'last_price' : 'median'})\\\n",
    ".rename(columns={'offer_id' : 'rent_count_flats', 'last_price' : 'rent_last_price'}).reset_index()\n",
    "rent_df_cleaned_last"
   ]
  },
  {
   "cell_type": "code",
   "execution_count": 96,
   "metadata": {},
   "outputs": [
    {
     "data": {
      "text/html": [
       "<div>\n",
       "<style scoped>\n",
       "    .dataframe tbody tr th:only-of-type {\n",
       "        vertical-align: middle;\n",
       "    }\n",
       "\n",
       "    .dataframe tbody tr th {\n",
       "        vertical-align: top;\n",
       "    }\n",
       "\n",
       "    .dataframe thead th {\n",
       "        text-align: right;\n",
       "    }\n",
       "</style>\n",
       "<table border=\"1\" class=\"dataframe\">\n",
       "  <thead>\n",
       "    <tr style=\"text-align: right;\">\n",
       "      <th></th>\n",
       "      <th>building_id</th>\n",
       "      <th>sell_count_flats</th>\n",
       "      <th>sell_last_price</th>\n",
       "    </tr>\n",
       "  </thead>\n",
       "  <tbody>\n",
       "    <tr>\n",
       "      <th>0</th>\n",
       "      <td>458573008430269</td>\n",
       "      <td>6</td>\n",
       "      <td>5095000.0</td>\n",
       "    </tr>\n",
       "    <tr>\n",
       "      <th>1</th>\n",
       "      <td>1785805724181110</td>\n",
       "      <td>1</td>\n",
       "      <td>8699000.0</td>\n",
       "    </tr>\n",
       "    <tr>\n",
       "      <th>2</th>\n",
       "      <td>3603962364551559</td>\n",
       "      <td>10</td>\n",
       "      <td>5745000.0</td>\n",
       "    </tr>\n",
       "    <tr>\n",
       "      <th>3</th>\n",
       "      <td>3603962364551561</td>\n",
       "      <td>8</td>\n",
       "      <td>5500000.0</td>\n",
       "    </tr>\n",
       "    <tr>\n",
       "      <th>4</th>\n",
       "      <td>3603962364553482</td>\n",
       "      <td>2</td>\n",
       "      <td>4750000.0</td>\n",
       "    </tr>\n",
       "    <tr>\n",
       "      <th>...</th>\n",
       "      <td>...</td>\n",
       "      <td>...</td>\n",
       "      <td>...</td>\n",
       "    </tr>\n",
       "    <tr>\n",
       "      <th>22931</th>\n",
       "      <td>9217640295586864077</td>\n",
       "      <td>4</td>\n",
       "      <td>9400000.0</td>\n",
       "    </tr>\n",
       "    <tr>\n",
       "      <th>22932</th>\n",
       "      <td>9217640295588649554</td>\n",
       "      <td>7</td>\n",
       "      <td>8000000.0</td>\n",
       "    </tr>\n",
       "    <tr>\n",
       "      <th>22933</th>\n",
       "      <td>9218305025595159777</td>\n",
       "      <td>1</td>\n",
       "      <td>17500000.0</td>\n",
       "    </tr>\n",
       "    <tr>\n",
       "      <th>22934</th>\n",
       "      <td>9219962699705661932</td>\n",
       "      <td>1</td>\n",
       "      <td>19500000.0</td>\n",
       "    </tr>\n",
       "    <tr>\n",
       "      <th>22935</th>\n",
       "      <td>9220297187880756244</td>\n",
       "      <td>6</td>\n",
       "      <td>4130000.0</td>\n",
       "    </tr>\n",
       "  </tbody>\n",
       "</table>\n",
       "<p>22936 rows × 3 columns</p>\n",
       "</div>"
      ],
      "text/plain": [
       "               building_id  sell_count_flats  sell_last_price\n",
       "0          458573008430269                 6        5095000.0\n",
       "1         1785805724181110                 1        8699000.0\n",
       "2         3603962364551559                10        5745000.0\n",
       "3         3603962364551561                 8        5500000.0\n",
       "4         3603962364553482                 2        4750000.0\n",
       "...                    ...               ...              ...\n",
       "22931  9217640295586864077                 4        9400000.0\n",
       "22932  9217640295588649554                 7        8000000.0\n",
       "22933  9218305025595159777                 1       17500000.0\n",
       "22934  9219962699705661932                 1       19500000.0\n",
       "22935  9220297187880756244                 6        4130000.0\n",
       "\n",
       "[22936 rows x 3 columns]"
      ]
     },
     "execution_count": 96,
     "metadata": {},
     "output_type": "execute_result"
    }
   ],
   "source": [
    "sell_df_cleaned_last = sell_df_cleaned.groupby('building_id').agg({'offer_id':'count', 'last_price' : 'median'})\\\n",
    ".rename(columns={'offer_id' : 'sell_count_flats', 'last_price' : 'sell_last_price'}).reset_index()\n",
    "sell_df_cleaned_last"
   ]
  },
  {
   "cell_type": "code",
   "execution_count": 97,
   "metadata": {},
   "outputs": [
    {
     "data": {
      "text/html": [
       "<div>\n",
       "<style scoped>\n",
       "    .dataframe tbody tr th:only-of-type {\n",
       "        vertical-align: middle;\n",
       "    }\n",
       "\n",
       "    .dataframe tbody tr th {\n",
       "        vertical-align: top;\n",
       "    }\n",
       "\n",
       "    .dataframe thead th {\n",
       "        text-align: right;\n",
       "    }\n",
       "</style>\n",
       "<table border=\"1\" class=\"dataframe\">\n",
       "  <thead>\n",
       "    <tr style=\"text-align: right;\">\n",
       "      <th></th>\n",
       "      <th>building_id</th>\n",
       "      <th>sell_count_flats</th>\n",
       "      <th>sell_last_price</th>\n",
       "      <th>rent_count_flats</th>\n",
       "      <th>rent_last_price</th>\n",
       "      <th>months</th>\n",
       "    </tr>\n",
       "  </thead>\n",
       "  <tbody>\n",
       "    <tr>\n",
       "      <th>9461</th>\n",
       "      <td>3819063692043546590</td>\n",
       "      <td>1.0</td>\n",
       "      <td>2325000.0</td>\n",
       "      <td>1.0</td>\n",
       "      <td>27000.0</td>\n",
       "      <td>8</td>\n",
       "    </tr>\n",
       "    <tr>\n",
       "      <th>11578</th>\n",
       "      <td>4748912015298159096</td>\n",
       "      <td>16.0</td>\n",
       "      <td>3749500.0</td>\n",
       "      <td>17.0</td>\n",
       "      <td>18500.0</td>\n",
       "      <td>10</td>\n",
       "    </tr>\n",
       "    <tr>\n",
       "      <th>13699</th>\n",
       "      <td>5675429875875671581</td>\n",
       "      <td>4.0</td>\n",
       "      <td>2740000.0</td>\n",
       "      <td>1.0</td>\n",
       "      <td>16000.0</td>\n",
       "      <td>14</td>\n",
       "    </tr>\n",
       "    <tr>\n",
       "      <th>15147</th>\n",
       "      <td>6257656112400819550</td>\n",
       "      <td>2.0</td>\n",
       "      <td>3085000.0</td>\n",
       "      <td>4.0</td>\n",
       "      <td>23000.0</td>\n",
       "      <td>15</td>\n",
       "    </tr>\n",
       "    <tr>\n",
       "      <th>4822</th>\n",
       "      <td>1842331473682593566</td>\n",
       "      <td>2.0</td>\n",
       "      <td>3100000.0</td>\n",
       "      <td>2.0</td>\n",
       "      <td>17000.0</td>\n",
       "      <td>15</td>\n",
       "    </tr>\n",
       "    <tr>\n",
       "      <th>...</th>\n",
       "      <td>...</td>\n",
       "      <td>...</td>\n",
       "      <td>...</td>\n",
       "      <td>...</td>\n",
       "      <td>...</td>\n",
       "      <td>...</td>\n",
       "    </tr>\n",
       "    <tr>\n",
       "      <th>16</th>\n",
       "      <td>15264832366839890</td>\n",
       "      <td>5.0</td>\n",
       "      <td>70000000.0</td>\n",
       "      <td>3.0</td>\n",
       "      <td>70000.0</td>\n",
       "      <td>4242</td>\n",
       "    </tr>\n",
       "    <tr>\n",
       "      <th>16117</th>\n",
       "      <td>6611791295188616969</td>\n",
       "      <td>2.0</td>\n",
       "      <td>82395000.0</td>\n",
       "      <td>3.0</td>\n",
       "      <td>285000.0</td>\n",
       "      <td>4342</td>\n",
       "    </tr>\n",
       "    <tr>\n",
       "      <th>2690</th>\n",
       "      <td>817754433912049435</td>\n",
       "      <td>1.0</td>\n",
       "      <td>70000000.0</td>\n",
       "      <td>1.0</td>\n",
       "      <td>45000.0</td>\n",
       "      <td>4666</td>\n",
       "    </tr>\n",
       "    <tr>\n",
       "      <th>10795</th>\n",
       "      <td>4378677413263079911</td>\n",
       "      <td>10.0</td>\n",
       "      <td>75500000.0</td>\n",
       "      <td>19.0</td>\n",
       "      <td>270000.0</td>\n",
       "      <td>4718</td>\n",
       "    </tr>\n",
       "    <tr>\n",
       "      <th>8569</th>\n",
       "      <td>3406104650917898324</td>\n",
       "      <td>48.0</td>\n",
       "      <td>75925500.0</td>\n",
       "      <td>1.0</td>\n",
       "      <td>260000.0</td>\n",
       "      <td>4745</td>\n",
       "    </tr>\n",
       "  </tbody>\n",
       "</table>\n",
       "<p>14225 rows × 6 columns</p>\n",
       "</div>"
      ],
      "text/plain": [
       "               building_id  sell_count_flats  sell_last_price  rent_count_flats  rent_last_price  months\n",
       "9461   3819063692043546590               1.0        2325000.0               1.0          27000.0       8\n",
       "11578  4748912015298159096              16.0        3749500.0              17.0          18500.0      10\n",
       "13699  5675429875875671581               4.0        2740000.0               1.0          16000.0      14\n",
       "15147  6257656112400819550               2.0        3085000.0               4.0          23000.0      15\n",
       "4822   1842331473682593566               2.0        3100000.0               2.0          17000.0      15\n",
       "...                    ...               ...              ...               ...              ...     ...\n",
       "16       15264832366839890               5.0       70000000.0               3.0          70000.0    4242\n",
       "16117  6611791295188616969               2.0       82395000.0               3.0         285000.0    4342\n",
       "2690    817754433912049435               1.0       70000000.0               1.0          45000.0    4666\n",
       "10795  4378677413263079911              10.0       75500000.0              19.0         270000.0    4718\n",
       "8569   3406104650917898324              48.0       75925500.0               1.0         260000.0    4745\n",
       "\n",
       "[14225 rows x 6 columns]"
      ]
     },
     "execution_count": 97,
     "metadata": {},
     "output_type": "execute_result"
    }
   ],
   "source": [
    "full = sell_df_cleaned_last.merge(rent_df_cleaned_last, on = 'building_id', how = 'outer')\n",
    "full['months'] = sell_df_cleaned_last['sell_last_price']\\\n",
    "/ rent_df_cleaned_last['rent_last_price']\n",
    "full = full.sort_values(by='months')\n",
    "full = full.dropna()\n",
    "full.months = full.months.astype(int)\n",
    "full"
   ]
  },
  {
   "cell_type": "markdown",
   "metadata": {},
   "source": [
    "### Save clean datasets"
   ]
  },
  {
   "cell_type": "code",
   "execution_count": 98,
   "metadata": {},
   "outputs": [],
   "source": [
    "rent_df_cleaned.to_csv('cleaned_rent.csv', index=False)"
   ]
  },
  {
   "cell_type": "code",
   "execution_count": 99,
   "metadata": {},
   "outputs": [],
   "source": [
    "rent_df_cleaned.to_csv('cleaned_sell.csv', index=False)"
   ]
  },
  {
   "cell_type": "markdown",
   "metadata": {},
   "source": [
    "### Self-control stops\n",
    "1. Calculate median and mean prices for apartments for rent after cleaning the data in St.Petersburg without Leningrad Oblast. Which of the statistics changed more and why?\n",
    "2. Calculate median and mean prices for apartments for sell before cleaning the data.\n",
    "2. Find houses with the most cheapest and most expensive price per sq m in St. Petersburg without Leningrad Oblast after cleaning outliers.\n",
    "3. Find the most expensive and the most cheapest apartment in St. Petersburg after cleaning outliers.\n",
    "4. Calculate how many years does it take to cover all money spent on buying apartment by renting it. Find houses in which it's the most effective to invest in buying if you plan to rent and houses in which it will be the most ineffective."
   ]
  }
 ],
 "metadata": {
  "kernelspec": {
   "display_name": "Python 3 (ipykernel)",
   "language": "python",
   "name": "python3"
  },
  "language_info": {
   "codemirror_mode": {
    "name": "ipython",
    "version": 3
   },
   "file_extension": ".py",
   "mimetype": "text/x-python",
   "name": "python",
   "nbconvert_exporter": "python",
   "pygments_lexer": "ipython3",
   "version": "3.9.6"
  }
 },
 "nbformat": 4,
 "nbformat_minor": 2
}
